{
  "nbformat": 4,
  "nbformat_minor": 0,
  "metadata": {
    "colab": {
      "name": "Deep Learning Project Training Model level 2.ipynb",
      "provenance": [],
      "collapsed_sections": [],
      "machine_shape": "hm"
    },
    "kernelspec": {
      "name": "python3",
      "display_name": "Python 3"
    },
    "accelerator": "TPU"
  },
  "cells": [
    {
      "cell_type": "markdown",
      "metadata": {
        "id": "eBFdkX5w3CXn"
      },
      "source": [
        "# Training the model"
      ]
    },
    {
      "cell_type": "markdown",
      "metadata": {
        "id": "iyQp0Ifg3OjH"
      },
      "source": [
        "## Setup"
      ]
    },
    {
      "cell_type": "code",
      "metadata": {
        "colab": {
          "base_uri": "https://localhost:8080/"
        },
        "id": "sitxNcf9qgBm",
        "outputId": "4ee44878-5fdb-4500-de95-efa375d60a57"
      },
      "source": [
        "!apt-get install openslide-tools\n",
        "!pip install openslide-python\n",
        "%matplotlib inline\n",
        "import tensorflow as tf\n",
        "import matplotlib.pyplot as plt\n",
        "import numpy as np\n",
        "from google.colab import drive\n",
        "from openslide import open_slide, __library_version__ as openslide_version\n",
        "import os\n",
        "from PIL import Image\n",
        "from skimage.color import rgb2gray\n",
        "import random\n",
        "import shutil\n",
        "drive.mount('/content/gdrive')"
      ],
      "execution_count": null,
      "outputs": [
        {
          "output_type": "stream",
          "text": [
            "Reading package lists... Done\n",
            "Building dependency tree       \n",
            "Reading state information... Done\n",
            "openslide-tools is already the newest version (3.4.1+dfsg-2).\n",
            "0 upgraded, 0 newly installed, 0 to remove and 14 not upgraded.\n",
            "Requirement already satisfied: openslide-python in /usr/local/lib/python3.6/dist-packages (1.1.2)\n",
            "Requirement already satisfied: Pillow in /usr/local/lib/python3.6/dist-packages (from openslide-python) (7.0.0)\n",
            "Drive already mounted at /content/gdrive; to attempt to forcibly remount, call drive.mount(\"/content/gdrive\", force_remount=True).\n"
          ],
          "name": "stdout"
        }
      ]
    },
    {
      "cell_type": "code",
      "metadata": {
        "id": "PgEZP3fjv6Jw"
      },
      "source": [
        "# Read WSI\n",
        "def read_slide(slide, x, y, level, width, height, as_float=False):\n",
        "    im = slide.read_region((x,y), level, (width, height))\n",
        "    im = im.convert('RGB') # drop the alpha channel\n",
        "    if as_float:\n",
        "        im = np.asarray(im, dtype=np.float32)\n",
        "    else:\n",
        "        im = np.asarray(im)\n",
        "    assert im.shape == (height, width, 3)\n",
        "    return im"
      ],
      "execution_count": null,
      "outputs": []
    },
    {
      "cell_type": "code",
      "metadata": {
        "id": "jDIKqXu9v-8U"
      },
      "source": [
        "# get the validate percentage of a image\n",
        "def tissue_pixels_percentage(image, intensity=0.8):\n",
        "    im_gray = rgb2gray(image)\n",
        "    assert im_gray.shape == (image.shape[0], image.shape[1])\n",
        "    indices = np.where(im_gray <= intensity)\n",
        "    tissue_pixels = list(zip(indices[0], indices[1]))\n",
        "    percentage = len(tissue_pixels) / float(image.shape[0] * image.shape[0])\n",
        "    return percentage"
      ],
      "execution_count": null,
      "outputs": []
    },
    {
      "cell_type": "code",
      "metadata": {
        "id": "oMIgCcWVwCuR"
      },
      "source": [
        "def myImageShow(tumor, mask_tumor):\n",
        "  plt.figure(figsize=(20,20), dpi=100)\n",
        "  plt.subplot(131)\n",
        "  plt.imshow(tumor)\n",
        "  plt.subplot(132)\n",
        "  plt.imshow(mask_tumor)\n",
        "  plt.subplot(133)\n",
        "  plt.imshow(tumor)\n",
        "  plt.imshow(mask_tumor, cmap = \"jet\", alpha = 0.5)\n",
        "  plt.show()"
      ],
      "execution_count": null,
      "outputs": []
    },
    {
      "cell_type": "markdown",
      "metadata": {
        "id": "UJJMj3YI3VHm"
      },
      "source": [
        "## Get the images from google drive and split them into training set and validaiton set"
      ]
    },
    {
      "cell_type": "code",
      "metadata": {
        "id": "kjGcbjWIqLLI"
      },
      "source": [
        "root = '/content/level_2/'\n",
        "train_dir = os.path.join(root, 'TrainSet')\n",
        "val_dir = os.path.join(root, 'ValSet')\n",
        "train_tumor_dir = os.path.join(train_dir, 'tumor')\n",
        "train_non_tumor_dir = os.path.join(train_dir, 'non_tumor')\n",
        "val_tumor_dir = os.path.join(val_dir, 'tumor')\n",
        "val_non_tumor_dir = os.path.join(val_dir, 'non_tumor')\n",
        "if not os.path.exists(root):\n",
        "  os.mkdir(root)\n",
        "if not os.path.exists(train_dir):\n",
        "  os.mkdir(train_dir)\n",
        "if not os.path.exists(val_dir):\n",
        "  os.mkdir(val_dir)\n",
        "if not os.path.exists(train_tumor_dir):\n",
        "  os.mkdir(train_tumor_dir)\n",
        "if not os.path.exists(train_non_tumor_dir):\n",
        "  os.mkdir(train_non_tumor_dir)\n",
        "if not os.path.exists(val_tumor_dir):\n",
        "  os.mkdir(val_tumor_dir)\n",
        "if not os.path.exists(val_non_tumor_dir):\n",
        "  os.mkdir(val_non_tumor_dir)"
      ],
      "execution_count": null,
      "outputs": []
    },
    {
      "cell_type": "code",
      "metadata": {
        "colab": {
          "base_uri": "https://localhost:8080/"
        },
        "id": "7b-eeVUSNvU6",
        "outputId": "07428216-e3ad-4b03-9308-70d662a597af"
      },
      "source": [
        "original_tumor_dir = '/content/gdrive/MyDrive/t2level_2/tumor'\n",
        "tumor_image_num = len(os.listdir(original_tumor_dir))\n",
        "print(tumor_image_num)"
      ],
      "execution_count": null,
      "outputs": [
        {
          "output_type": "stream",
          "text": [
            "799\n"
          ],
          "name": "stdout"
        }
      ]
    },
    {
      "cell_type": "code",
      "metadata": {
        "colab": {
          "base_uri": "https://localhost:8080/",
          "height": 35
        },
        "id": "Hwa5sZ-nFcun",
        "outputId": "30a43082-2ba9-41a1-875d-fb4c6ee6a10f"
      },
      "source": [
        "original_no_tumor_dir = '/content/gdrive/MyDrive/t2level_2/no_tumor'\n",
        "no_tumor_image_num = 15000\n",
        "\"\"\"\n",
        "no_tumor_image_num = len(os.listdir(original_no_tumor_dir))\n",
        "print(no_tumor_image_num)\n",
        "\"\"\""
      ],
      "execution_count": null,
      "outputs": [
        {
          "output_type": "execute_result",
          "data": {
            "application/vnd.google.colaboratory.intrinsic+json": {
              "type": "string"
            },
            "text/plain": [
              "'\\nno_tumor_image_num = len(os.listdir(original_no_tumor_dir))\\nprint(no_tumor_image_num)\\n'"
            ]
          },
          "metadata": {
            "tags": []
          },
          "execution_count": 7
        }
      ]
    },
    {
      "cell_type": "code",
      "metadata": {
        "colab": {
          "base_uri": "https://localhost:8080/"
        },
        "id": "EqPTnBT3OJPk",
        "outputId": "e8f37b4e-a47e-447b-8b01-d6391d1e31b5"
      },
      "source": [
        "import math\n",
        "train_image_num = math.floor(tumor_image_num * 0.8)\n",
        "val_image_num = math.floor(tumor_image_num * 0.2)\n",
        "print(train_image_num, val_image_num)"
      ],
      "execution_count": null,
      "outputs": [
        {
          "output_type": "stream",
          "text": [
            "639 159\n"
          ],
          "name": "stdout"
        }
      ]
    },
    {
      "cell_type": "markdown",
      "metadata": {
        "id": "pUdaHmjg3_So"
      },
      "source": [
        "### Randomly Get Sample from the set\n",
        "In the sample process, I try two ways to sample the first one is tumor: non_tumor = 1: 1 and the second one is tumor: non_tumor = 1: 2. From experiment, I I found that 1: 1 sample way have a better result. Therefore, sampling the tumor: non_tumor as 1:1 and split the sample into 2 parts: training set: validation set = 4: 1."
      ]
    },
    {
      "cell_type": "code",
      "metadata": {
        "id": "00rOQ4i1PE8u"
      },
      "source": [
        "tumor_sample = random.sample(range(1, tumor_image_num + 1), train_image_num + val_image_num)\n",
        "no_tumor_sample = random.sample(range(1, no_tumor_image_num + 1), (train_image_num + val_image_num))\n",
        "#no_tumor_sample = random.sample(range(1, no_tumor_image_num + 1), (train_image_num + val_image_num) * 2)"
      ],
      "execution_count": null,
      "outputs": []
    },
    {
      "cell_type": "code",
      "metadata": {
        "colab": {
          "base_uri": "https://localhost:8080/"
        },
        "id": "Uwo_amJG2oMa",
        "outputId": "007ed1a5-7f1f-4d33-fb9b-9efe0495ab13"
      },
      "source": [
        "print(len(tumor_sample))\n",
        "print(len(no_tumor_sample))"
      ],
      "execution_count": null,
      "outputs": [
        {
          "output_type": "stream",
          "text": [
            "798\n",
            "798\n"
          ],
          "name": "stdout"
        }
      ]
    },
    {
      "cell_type": "code",
      "metadata": {
        "colab": {
          "base_uri": "https://localhost:8080/"
        },
        "id": "4UgENlIVqWoj",
        "outputId": "d4ec3b7a-c591-445a-f8f0-2427fb051d3b"
      },
      "source": [
        "# Copy tumor images to train_tumor_dir\n",
        "fnames = ['tumor_{}.png'.format(i) for i in tumor_sample[0: train_image_num]]\n",
        "for fname in fnames:\n",
        "    src = os.path.join(original_tumor_dir, fname)\n",
        "    dst = os.path.join(train_tumor_dir, fname)\n",
        "    shutil.copyfile(src, dst)\n",
        "\n",
        "# Copy tumor images to val_tumor_dir\n",
        "fnames = ['tumor_{}.png'.format(i) for i in tumor_sample[train_image_num::]]\n",
        "for fname in fnames:\n",
        "    src = os.path.join(original_tumor_dir, fname)\n",
        "    dst = os.path.join(val_tumor_dir, fname)\n",
        "    shutil.copyfile(src, dst)\n",
        "\n",
        "print(len(os.listdir(val_tumor_dir))) \n",
        "print(len(os.listdir(train_tumor_dir)))"
      ],
      "execution_count": null,
      "outputs": [
        {
          "output_type": "stream",
          "text": [
            "286\n",
            "767\n"
          ],
          "name": "stdout"
        }
      ]
    },
    {
      "cell_type": "code",
      "metadata": {
        "colab": {
          "base_uri": "https://localhost:8080/"
        },
        "id": "FWhfp3J5qb5i",
        "outputId": "aa947288-ca35-499d-8a9f-97cb8cef0993"
      },
      "source": [
        "# Copy non tumor images to train_tumor_dir\n",
        "\n",
        "#fnames = ['no_tumor_{}.jpeg'.format(i) for i in no_tumor_sample[0: train_image_num * 2]]\n",
        "fnames = ['no_tumor_{}.png'.format(i) for i in no_tumor_sample[0: train_image_num]]\n",
        "for fname in fnames:\n",
        "    src = os.path.join(original_no_tumor_dir, fname)\n",
        "    dst = os.path.join(train_non_tumor_dir, fname)\n",
        "    shutil.copyfile(src, dst)\n",
        "\n",
        "# Copy non tumor images to val_tumor_dir\n",
        "#fnames = ['no_tumor_{}.jpeg'.format(i) for i in no_tumor_sample[train_image_num * 2::]]\n",
        "fnames = ['no_tumor_{}.png'.format(i) for i in no_tumor_sample[train_image_num::]]\n",
        "for fname in fnames:\n",
        "    src = os.path.join(original_no_tumor_dir, fname)\n",
        "    dst = os.path.join(val_non_tumor_dir, fname)\n",
        "    shutil.copyfile(src, dst)\n",
        "\n",
        "print(len(os.listdir(val_non_tumor_dir)))\n",
        "print(len(os.listdir(train_non_tumor_dir)))"
      ],
      "execution_count": null,
      "outputs": [
        {
          "output_type": "stream",
          "text": [
            "159\n",
            "639\n"
          ],
          "name": "stdout"
        }
      ]
    },
    {
      "cell_type": "markdown",
      "metadata": {
        "id": "YPSf-yLU2_cy"
      },
      "source": [
        "## Trian the Model with Transfer Learning (Xception)\n"
      ]
    },
    {
      "cell_type": "code",
      "metadata": {
        "colab": {
          "base_uri": "https://localhost:8080/"
        },
        "id": "wMde3lwjqsx-",
        "outputId": "b6aa6960-750f-436f-a313-e531847d2672"
      },
      "source": [
        "\n",
        "base_model = tf.keras.applications.Xception(include_top = False, weights = \"imagenet\", input_shape = (299, 299, 3))\n",
        "base_model.trainable = False\n",
        "model=tf.keras.models.Sequential([   \n",
        "    base_model,\n",
        "    tf.keras.layers.Flatten(),\n",
        "    tf.keras.layers.Dense(32, activation='relu'),\n",
        "    tf.keras.layers.Dense(16, activation='relu'),\n",
        "    tf.keras.layers.Dense(2, activation='softmax')\n",
        "])\n",
        "\n",
        "model.summary()"
      ],
      "execution_count": null,
      "outputs": [
        {
          "output_type": "stream",
          "text": [
            "Model: \"sequential_1\"\n",
            "_________________________________________________________________\n",
            "Layer (type)                 Output Shape              Param #   \n",
            "=================================================================\n",
            "xception (Functional)        (None, 10, 10, 2048)      20861480  \n",
            "_________________________________________________________________\n",
            "flatten_1 (Flatten)          (None, 204800)            0         \n",
            "_________________________________________________________________\n",
            "dense_3 (Dense)              (None, 32)                6553632   \n",
            "_________________________________________________________________\n",
            "dense_4 (Dense)              (None, 16)                528       \n",
            "_________________________________________________________________\n",
            "dense_5 (Dense)              (None, 2)                 34        \n",
            "=================================================================\n",
            "Total params: 27,415,674\n",
            "Trainable params: 6,554,194\n",
            "Non-trainable params: 20,861,480\n",
            "_________________________________________________________________\n"
          ],
          "name": "stdout"
        }
      ]
    },
    {
      "cell_type": "markdown",
      "metadata": {
        "id": "lgLqrC4l5fXd"
      },
      "source": [
        "### Data Augmentation\n",
        "The tumor image dataset is small, so using several ways to augment the dataset:\n",
        "1. Rotation\n",
        "2. Horizontal Flip and Vertical Flip\n",
        "3. Random choose adjust brightness (max_delta = 64 / 255), contrast (upper = 0.75), hue (max_delta = 0.04) and saturation (upper = 0.25)."
      ]
    },
    {
      "cell_type": "code",
      "metadata": {
        "colab": {
          "base_uri": "https://localhost:8080/"
        },
        "id": "A0_kRGiUq2YL",
        "outputId": "0f68a0d9-9a57-4ab5-805d-de483c7fdf2b"
      },
      "source": [
        "def MyAugmentationFunction(image):\n",
        "  choice = random.choice([\"brightness\", \"contrast\", \"hue\", \"saturation\"])\n",
        "  if choice == \"brightness\":\n",
        "    image = tf.image.random_brightness(image, max_delta = 64 / 255)\n",
        "  if choice == \"contrast\":\n",
        "    image = tf.image.random_contrast(image, lower = 0, upper = 0.75)\n",
        "  if choice == \"hue\":\n",
        "    image = tf.image.random_hue(image, max_delta = 0.04)\n",
        "  if choice == \"saturation\":\n",
        "    image = tf.image.random_saturation(image, lower = 0, upper = 0.25)\n",
        "  return image\n",
        "\n",
        "train_datagen = tf.keras.preprocessing.image.ImageDataGenerator(rescale = 1./255,\n",
        "                                                                rotation_range = 90,\n",
        "                                                                vertical_flip = True,\n",
        "                                                                horizontal_flip = True,\n",
        "                                                                preprocessing_function = MyAugmentationFunction)\n",
        "\n",
        "test_datagen = tf.keras.preprocessing.image.ImageDataGenerator(rescale=1./255)\n",
        "\n",
        "train_generator = train_datagen.flow_from_directory(\n",
        "        train_dir,\n",
        "        target_size = (299, 299),\n",
        "        batch_size = 32,\n",
        "        class_mode='categorical')\n",
        "\n",
        "validation_generator = test_datagen.flow_from_directory(\n",
        "        val_dir,\n",
        "        target_size = (299, 299),\n",
        "        batch_size = 32,\n",
        "        class_mode = 'categorical')\n",
        "\n",
        "model.compile(optimizer ='RMSprop',\n",
        "              loss = 'categorical_crossentropy',\n",
        "              metrics = ['accuracy', tf.keras.metrics.AUC()])\n",
        "\n",
        "history = model.fit(train_generator, verbose = 1, epochs = 15, validation_data = validation_generator)"
      ],
      "execution_count": null,
      "outputs": [
        {
          "output_type": "stream",
          "text": [
            "Found 1406 images belonging to 2 classes.\n",
            "Found 445 images belonging to 2 classes.\n",
            "Epoch 1/15\n",
            "44/44 [==============================] - 65s 1s/step - loss: 2.4448 - accuracy: 0.7148 - auc_1: 0.7288 - val_loss: 0.3773 - val_accuracy: 0.8382 - val_auc_1: 0.9151\n",
            "Epoch 2/15\n",
            "44/44 [==============================] - 63s 1s/step - loss: 0.4875 - accuracy: 0.7838 - auc_1: 0.8702 - val_loss: 0.3133 - val_accuracy: 0.8472 - val_auc_1: 0.9442\n",
            "Epoch 3/15\n",
            "44/44 [==============================] - 63s 1s/step - loss: 0.4180 - accuracy: 0.7994 - auc_1: 0.8987 - val_loss: 0.2657 - val_accuracy: 0.8472 - val_auc_1: 0.9531\n",
            "Epoch 4/15\n",
            "44/44 [==============================] - 63s 1s/step - loss: 0.3620 - accuracy: 0.8393 - auc_1: 0.9228 - val_loss: 0.3141 - val_accuracy: 0.8090 - val_auc_1: 0.9420\n",
            "Epoch 5/15\n",
            "44/44 [==============================] - 63s 1s/step - loss: 0.3339 - accuracy: 0.8385 - auc_1: 0.9315 - val_loss: 0.2443 - val_accuracy: 0.8742 - val_auc_1: 0.9601\n",
            "Epoch 6/15\n",
            "44/44 [==============================] - 64s 1s/step - loss: 0.3118 - accuracy: 0.8698 - auc_1: 0.9420 - val_loss: 0.2732 - val_accuracy: 0.8517 - val_auc_1: 0.9545\n",
            "Epoch 7/15\n",
            "44/44 [==============================] - 63s 1s/step - loss: 0.3462 - accuracy: 0.8620 - auc_1: 0.9376 - val_loss: 0.2591 - val_accuracy: 0.8831 - val_auc_1: 0.9588\n",
            "Epoch 8/15\n",
            "44/44 [==============================] - 64s 1s/step - loss: 0.3002 - accuracy: 0.8606 - auc_1: 0.9446 - val_loss: 0.3520 - val_accuracy: 0.8472 - val_auc_1: 0.9475\n",
            "Epoch 9/15\n",
            "44/44 [==============================] - 65s 1s/step - loss: 0.3173 - accuracy: 0.8620 - auc_1: 0.9415 - val_loss: 0.2582 - val_accuracy: 0.8607 - val_auc_1: 0.9572\n",
            "Epoch 10/15\n",
            "44/44 [==============================] - 64s 1s/step - loss: 0.2848 - accuracy: 0.8755 - auc_1: 0.9509 - val_loss: 0.2459 - val_accuracy: 0.8944 - val_auc_1: 0.9634\n",
            "Epoch 11/15\n",
            "44/44 [==============================] - 65s 1s/step - loss: 0.2701 - accuracy: 0.8898 - auc_1: 0.9563 - val_loss: 0.2296 - val_accuracy: 0.8876 - val_auc_1: 0.9684\n",
            "Epoch 12/15\n",
            "44/44 [==============================] - 64s 1s/step - loss: 0.2879 - accuracy: 0.8791 - auc_1: 0.9512 - val_loss: 0.2315 - val_accuracy: 0.8989 - val_auc_1: 0.9683\n",
            "Epoch 13/15\n",
            "44/44 [==============================] - 64s 1s/step - loss: 0.3107 - accuracy: 0.8720 - auc_1: 0.9438 - val_loss: 0.2370 - val_accuracy: 0.8899 - val_auc_1: 0.9673\n",
            "Epoch 14/15\n",
            "44/44 [==============================] - 64s 1s/step - loss: 0.2872 - accuracy: 0.8805 - auc_1: 0.9527 - val_loss: 0.2326 - val_accuracy: 0.9034 - val_auc_1: 0.9729\n",
            "Epoch 15/15\n",
            "44/44 [==============================] - 64s 1s/step - loss: 0.2902 - accuracy: 0.8819 - auc_1: 0.9499 - val_loss: 0.2368 - val_accuracy: 0.9101 - val_auc_1: 0.9672\n"
          ],
          "name": "stdout"
        }
      ]
    },
    {
      "cell_type": "code",
      "metadata": {
        "colab": {
          "base_uri": "https://localhost:8080/"
        },
        "id": "tqFOKo0BC1k3",
        "outputId": "a93edf78-e75c-4248-fd6c-ae66b7da13b9"
      },
      "source": [
        "train_generator.class_indices"
      ],
      "execution_count": null,
      "outputs": [
        {
          "output_type": "execute_result",
          "data": {
            "text/plain": [
              "{'non_tumor': 0, 'tumor': 1}"
            ]
          },
          "metadata": {
            "tags": []
          },
          "execution_count": 17
        }
      ]
    },
    {
      "cell_type": "code",
      "metadata": {
        "id": "paam9b04voeM"
      },
      "source": [
        "# Save the model in google drive\n",
        "model.save(\"/content/gdrive/MyDrive/MyModels/my_model_level_2_Xception_final_model_1.h5\")"
      ],
      "execution_count": null,
      "outputs": []
    },
    {
      "cell_type": "code",
      "metadata": {
        "colab": {
          "base_uri": "https://localhost:8080/",
          "height": 590
        },
        "id": "Unozi5nMuzyw",
        "outputId": "649f7eb0-0e8b-4a3f-b369-694648a9b323"
      },
      "source": [
        "# Accuracy History\n",
        "plt.figure(1)\n",
        "plt.title(\"Training and Validation Accuracy History\")\n",
        "plt.plot( history.history['accuracy'], color = \"red\", label = \"train_accuracy\")\n",
        "plt.plot( history.history['val_accuracy'], color = \"blue\", label = \"validation_accuracy\")\n",
        "plt.xlabel(\"Epoches\")\n",
        "plt.ylabel(\"Accuracy\")\n",
        "plt.legend()\n",
        "\n",
        "# Loss History\n",
        "plt.figure(2)\n",
        "plt.title(\"Training and Validation Loss History\")\n",
        "plt.plot(history.history['loss'], color = \"red\", label = \"train_loss\")\n",
        "plt.plot(history.history['val_loss'], color = \"blue\", label = \"validation_loss\")\n",
        "plt.xlabel(\"Epoches\")\n",
        "plt.ylabel(\"Loss\")\n",
        "plt.legend()"
      ],
      "execution_count": null,
      "outputs": [
        {
          "output_type": "execute_result",
          "data": {
            "text/plain": [
              "<matplotlib.legend.Legend at 0x7f39805e9390>"
            ]
          },
          "metadata": {
            "tags": []
          },
          "execution_count": 19
        },
        {
          "output_type": "display_data",
          "data": {
            "image/png": "[encoded data removed]",
            "text/plain": [
              "<Figure size 432x288 with 1 Axes>"
            ]
          },
          "metadata": {
            "tags": [],
            "needs_background": "light"
          }
        },
        {
          "output_type": "display_data",
          "data": {
            "image/png": "[encoded data removed]",
            "text/plain": [
              "<Figure size 432x288 with 1 Axes>"
            ]
          },
          "metadata": {
            "tags": [],
            "needs_background": "light"
          }
        }
      ]
    },
    {
      "cell_type": "markdown",
      "metadata": {
        "id": "1FZ71Bj-6kBR"
      },
      "source": [
        "##Trian the Custom Model"
      ]
    },
    {
      "cell_type": "code",
      "metadata": {
        "colab": {
          "base_uri": "https://localhost:8080/"
        },
        "id": "Q_bc-bE727i8",
        "outputId": "85f7c16f-9258-416b-a42f-4b73b4958ca5"
      },
      "source": [
        "model=tf.keras.models.Sequential([  \n",
        "    tf.keras.layers.Conv2D(16, (3, 3), activation='relu', input_shape=(299, 299, 3)),\n",
        "    tf.keras.layers.MaxPooling2D((2, 2)), \n",
        "    tf.keras.layers.Conv2D(32, (3, 3), activation='relu', input_shape=(299, 299, 3)),\n",
        "    tf.keras.layers.MaxPooling2D((2, 2)),\n",
        "    #tf.keras.layers.Dropout(0.2),\n",
        "    tf.keras.layers.Conv2D(64, (3, 3), activation='relu'),\n",
        "    tf.keras.layers.MaxPooling2D((2, 2)),\n",
        "    #tf.keras.layers.Dropout(0.2),\n",
        "    tf.keras.layers.Conv2D(128, (3, 3), activation='relu'),\n",
        "    tf.keras.layers.MaxPooling2D((2, 2)),\n",
        "    #tf.keras.layers.Dropout(0.2),\n",
        "    tf.keras.layers.Conv2D(256, (3, 3), activation='relu'),\n",
        "    tf.keras.layers.MaxPooling2D((2, 2)),\n",
        "    tf.keras.layers.Flatten(),\n",
        "    tf.keras.layers.Dense(512, activation='relu'),\n",
        "    tf.keras.layers.Dense(32, activation='relu'),\n",
        "    tf.keras.layers.Dense(16, activation='relu'),\n",
        "    tf.keras.layers.Dense(2, activation='softmax')\n",
        "])\n",
        "\n",
        "model.summary()"
      ],
      "execution_count": null,
      "outputs": [
        {
          "output_type": "stream",
          "text": [
            "Model: \"sequential_6\"\n",
            "_________________________________________________________________\n",
            "Layer (type)                 Output Shape              Param #   \n",
            "=================================================================\n",
            "conv2d_25 (Conv2D)           (None, 297, 297, 16)      448       \n",
            "_________________________________________________________________\n",
            "max_pooling2d_17 (MaxPooling (None, 148, 148, 16)      0         \n",
            "_________________________________________________________________\n",
            "conv2d_26 (Conv2D)           (None, 146, 146, 32)      4640      \n",
            "_________________________________________________________________\n",
            "max_pooling2d_18 (MaxPooling (None, 73, 73, 32)        0         \n",
            "_________________________________________________________________\n",
            "conv2d_27 (Conv2D)           (None, 71, 71, 64)        18496     \n",
            "_________________________________________________________________\n",
            "max_pooling2d_19 (MaxPooling (None, 35, 35, 64)        0         \n",
            "_________________________________________________________________\n",
            "conv2d_28 (Conv2D)           (None, 33, 33, 128)       73856     \n",
            "_________________________________________________________________\n",
            "max_pooling2d_20 (MaxPooling (None, 16, 16, 128)       0         \n",
            "_________________________________________________________________\n",
            "conv2d_29 (Conv2D)           (None, 14, 14, 256)       295168    \n",
            "_________________________________________________________________\n",
            "max_pooling2d_21 (MaxPooling (None, 7, 7, 256)         0         \n",
            "_________________________________________________________________\n",
            "flatten_6 (Flatten)          (None, 12544)             0         \n",
            "_________________________________________________________________\n",
            "dense_19 (Dense)             (None, 512)               6423040   \n",
            "_________________________________________________________________\n",
            "dense_20 (Dense)             (None, 32)                16416     \n",
            "_________________________________________________________________\n",
            "dense_21 (Dense)             (None, 16)                528       \n",
            "_________________________________________________________________\n",
            "dense_22 (Dense)             (None, 2)                 34        \n",
            "=================================================================\n",
            "Total params: 6,832,626\n",
            "Trainable params: 6,832,626\n",
            "Non-trainable params: 0\n",
            "_________________________________________________________________\n"
          ],
          "name": "stdout"
        }
      ]
    },
    {
      "cell_type": "code",
      "metadata": {
        "colab": {
          "base_uri": "https://localhost:8080/"
        },
        "id": "Xa-t-gBy6xkk",
        "outputId": "ab5a2cb7-d84e-4304-a378-127dd6bb3b26"
      },
      "source": [
        "train_datagen = tf.keras.preprocessing.image.ImageDataGenerator(rescale = 1./255,\n",
        "                                                                rotation_range = 90,\n",
        "                                                                vertical_flip = True,\n",
        "                                                                horizontal_flip = True,\n",
        "                                                                preprocessing_function = MyAugmentationFunction)\n",
        "\n",
        "test_datagen = tf.keras.preprocessing.image.ImageDataGenerator(rescale=1./255)\n",
        "\n",
        "train_generator = train_datagen.flow_from_directory(\n",
        "        train_dir,\n",
        "        target_size = (299, 299),\n",
        "        batch_size = 32,\n",
        "        class_mode='categorical')\n",
        "\n",
        "validation_generator = test_datagen.flow_from_directory(\n",
        "        val_dir,\n",
        "        target_size = (299, 299),\n",
        "        batch_size = 32,\n",
        "        class_mode = 'categorical')\n",
        "\n",
        "model.compile(optimizer ='RMSprop',\n",
        "              loss = 'categorical_crossentropy',\n",
        "              metrics = ['accuracy', tf.keras.metrics.AUC()])\n",
        "\n",
        "history = model.fit(train_generator, verbose = 1, epochs = 100, validation_data = validation_generator)"
      ],
      "execution_count": null,
      "outputs": [
        {
          "output_type": "stream",
          "text": [
            "Found 1406 images belonging to 2 classes.\n",
            "Found 445 images belonging to 2 classes.\n",
            "Epoch 1/100\n",
            "44/44 [==============================] - 42s 957ms/step - loss: 0.6952 - accuracy: 0.5284 - auc_6: 0.5248 - val_loss: 0.6399 - val_accuracy: 0.6427 - val_auc_6: 0.7614\n",
            "Epoch 2/100\n",
            "44/44 [==============================] - 42s 947ms/step - loss: 0.6964 - accuracy: 0.5882 - auc_6: 0.6030 - val_loss: 0.6193 - val_accuracy: 0.6764 - val_auc_6: 0.7908\n",
            "Epoch 3/100\n",
            "44/44 [==============================] - 42s 945ms/step - loss: 0.6607 - accuracy: 0.6266 - auc_6: 0.6512 - val_loss: 0.5960 - val_accuracy: 0.7461 - val_auc_6: 0.8363\n",
            "Epoch 4/100\n",
            "44/44 [==============================] - 42s 954ms/step - loss: 0.6635 - accuracy: 0.6444 - auc_6: 0.6734 - val_loss: 0.6076 - val_accuracy: 0.7326 - val_auc_6: 0.8458\n",
            "Epoch 5/100\n",
            "44/44 [==============================] - 42s 949ms/step - loss: 0.6412 - accuracy: 0.6550 - auc_6: 0.7013 - val_loss: 0.5650 - val_accuracy: 0.7056 - val_auc_6: 0.8146\n",
            "Epoch 6/100\n",
            "44/44 [==============================] - 42s 952ms/step - loss: 0.6453 - accuracy: 0.6444 - auc_6: 0.6989 - val_loss: 0.7169 - val_accuracy: 0.6584 - val_auc_6: 0.6648\n",
            "Epoch 7/100\n",
            "44/44 [==============================] - 42s 945ms/step - loss: 0.6087 - accuracy: 0.6927 - auc_6: 0.7438 - val_loss: 0.4717 - val_accuracy: 0.7933 - val_auc_6: 0.8605\n",
            "Epoch 8/100\n",
            "44/44 [==============================] - 42s 949ms/step - loss: 0.5805 - accuracy: 0.7297 - auc_6: 0.7709 - val_loss: 0.6181 - val_accuracy: 0.7348 - val_auc_6: 0.7506\n",
            "Epoch 9/100\n",
            "44/44 [==============================] - 42s 946ms/step - loss: 0.5760 - accuracy: 0.7354 - auc_6: 0.7827 - val_loss: 0.7215 - val_accuracy: 0.5236 - val_auc_6: 0.5924\n",
            "Epoch 10/100\n",
            "44/44 [==============================] - 42s 953ms/step - loss: 0.5196 - accuracy: 0.7653 - auc_6: 0.8230 - val_loss: 1.0350 - val_accuracy: 0.6022 - val_auc_6: 0.6239\n",
            "Epoch 11/100\n",
            "44/44 [==============================] - 42s 947ms/step - loss: 0.5344 - accuracy: 0.7546 - auc_6: 0.8119 - val_loss: 0.3886 - val_accuracy: 0.8472 - val_auc_6: 0.9077\n",
            "Epoch 12/100\n",
            "44/44 [==============================] - 42s 947ms/step - loss: 0.5344 - accuracy: 0.7518 - auc_6: 0.8106 - val_loss: 0.3623 - val_accuracy: 0.8584 - val_auc_6: 0.9190\n",
            "Epoch 13/100\n",
            "44/44 [==============================] - 42s 961ms/step - loss: 0.5114 - accuracy: 0.7560 - auc_6: 0.8328 - val_loss: 0.3909 - val_accuracy: 0.8292 - val_auc_6: 0.9065\n",
            "Epoch 14/100\n",
            "44/44 [==============================] - 42s 960ms/step - loss: 0.5000 - accuracy: 0.7859 - auc_6: 0.8407 - val_loss: 0.6171 - val_accuracy: 0.7640 - val_auc_6: 0.7694\n",
            "Epoch 15/100\n",
            "44/44 [==============================] - 42s 960ms/step - loss: 0.5832 - accuracy: 0.7575 - auc_6: 0.8161 - val_loss: 0.7845 - val_accuracy: 0.6831 - val_auc_6: 0.7202\n",
            "Epoch 16/100\n",
            "44/44 [==============================] - 42s 959ms/step - loss: 0.4847 - accuracy: 0.7795 - auc_6: 0.8494 - val_loss: 0.3405 - val_accuracy: 0.8472 - val_auc_6: 0.9329\n",
            "Epoch 17/100\n",
            "44/44 [==============================] - 42s 959ms/step - loss: 0.4852 - accuracy: 0.7873 - auc_6: 0.8552 - val_loss: 0.6351 - val_accuracy: 0.6944 - val_auc_6: 0.7566\n",
            "Epoch 18/100\n",
            "44/44 [==============================] - 42s 954ms/step - loss: 0.4959 - accuracy: 0.7738 - auc_6: 0.8454 - val_loss: 0.5914 - val_accuracy: 0.7348 - val_auc_6: 0.7969\n",
            "Epoch 19/100\n",
            "44/44 [==============================] - 42s 954ms/step - loss: 0.4833 - accuracy: 0.7881 - auc_6: 0.8539 - val_loss: 0.3432 - val_accuracy: 0.8562 - val_auc_6: 0.9274\n",
            "Epoch 20/100\n",
            "44/44 [==============================] - 42s 951ms/step - loss: 0.4787 - accuracy: 0.7809 - auc_6: 0.8536 - val_loss: 0.4204 - val_accuracy: 0.8202 - val_auc_6: 0.8892\n",
            "Epoch 21/100\n",
            "44/44 [==============================] - 42s 951ms/step - loss: 0.4659 - accuracy: 0.7945 - auc_6: 0.8650 - val_loss: 0.3645 - val_accuracy: 0.8494 - val_auc_6: 0.9204\n",
            "Epoch 22/100\n",
            "44/44 [==============================] - 42s 955ms/step - loss: 0.4702 - accuracy: 0.7973 - auc_6: 0.8607 - val_loss: 0.3983 - val_accuracy: 0.8360 - val_auc_6: 0.9045\n",
            "Epoch 23/100\n",
            "44/44 [==============================] - 42s 952ms/step - loss: 0.4613 - accuracy: 0.7888 - auc_6: 0.8660 - val_loss: 0.3907 - val_accuracy: 0.8629 - val_auc_6: 0.9164\n",
            "Epoch 24/100\n",
            "44/44 [==============================] - 42s 949ms/step - loss: 0.4592 - accuracy: 0.7795 - auc_6: 0.8660 - val_loss: 0.3113 - val_accuracy: 0.8584 - val_auc_6: 0.9414\n",
            "Epoch 25/100\n",
            "44/44 [==============================] - 42s 949ms/step - loss: 0.4718 - accuracy: 0.7937 - auc_6: 0.8634 - val_loss: 0.4023 - val_accuracy: 0.8315 - val_auc_6: 0.9061\n",
            "Epoch 26/100\n",
            "44/44 [==============================] - 42s 953ms/step - loss: 0.5253 - accuracy: 0.8051 - auc_6: 0.8586 - val_loss: 0.7160 - val_accuracy: 0.6697 - val_auc_6: 0.7053\n",
            "Epoch 27/100\n",
            "44/44 [==============================] - 42s 949ms/step - loss: 0.4321 - accuracy: 0.7966 - auc_6: 0.8821 - val_loss: 0.9007 - val_accuracy: 0.7258 - val_auc_6: 0.7477\n",
            "Epoch 28/100\n",
            "44/44 [==============================] - 42s 949ms/step - loss: 0.4502 - accuracy: 0.8009 - auc_6: 0.8739 - val_loss: 0.6814 - val_accuracy: 0.7640 - val_auc_6: 0.8014\n",
            "Epoch 29/100\n",
            "44/44 [==============================] - 42s 946ms/step - loss: 0.6809 - accuracy: 0.7738 - auc_6: 0.8501 - val_loss: 0.4422 - val_accuracy: 0.8022 - val_auc_6: 0.8799\n",
            "Epoch 30/100\n",
            "44/44 [==============================] - 42s 951ms/step - loss: 0.4373 - accuracy: 0.8094 - auc_6: 0.8814 - val_loss: 0.3813 - val_accuracy: 0.8292 - val_auc_6: 0.9107\n",
            "Epoch 31/100\n",
            "44/44 [==============================] - 42s 950ms/step - loss: 0.4546 - accuracy: 0.8044 - auc_6: 0.8740 - val_loss: 0.5272 - val_accuracy: 0.7775 - val_auc_6: 0.8443\n",
            "Epoch 32/100\n",
            "44/44 [==============================] - 42s 948ms/step - loss: 0.4366 - accuracy: 0.8009 - auc_6: 0.8809 - val_loss: 0.3773 - val_accuracy: 0.8472 - val_auc_6: 0.9149\n",
            "Epoch 33/100\n",
            "44/44 [==============================] - 42s 953ms/step - loss: 0.4525 - accuracy: 0.8144 - auc_6: 0.8766 - val_loss: 0.3539 - val_accuracy: 0.8584 - val_auc_6: 0.9289\n",
            "Epoch 34/100\n",
            "44/44 [==============================] - 42s 952ms/step - loss: 0.4434 - accuracy: 0.7987 - auc_6: 0.8814 - val_loss: 0.3388 - val_accuracy: 0.8404 - val_auc_6: 0.9335\n",
            "Epoch 35/100\n",
            "44/44 [==============================] - 42s 948ms/step - loss: 0.4237 - accuracy: 0.8108 - auc_6: 0.8881 - val_loss: 0.3733 - val_accuracy: 0.8607 - val_auc_6: 0.9338\n",
            "Epoch 36/100\n",
            "44/44 [==============================] - 42s 952ms/step - loss: 0.4238 - accuracy: 0.8151 - auc_6: 0.8902 - val_loss: 0.7623 - val_accuracy: 0.7753 - val_auc_6: 0.8207\n",
            "Epoch 37/100\n",
            "44/44 [==============================] - 42s 953ms/step - loss: 0.4276 - accuracy: 0.8193 - auc_6: 0.8909 - val_loss: 0.4639 - val_accuracy: 0.8045 - val_auc_6: 0.8792\n",
            "Epoch 38/100\n",
            "44/44 [==============================] - 43s 975ms/step - loss: 0.4468 - accuracy: 0.8051 - auc_6: 0.8809 - val_loss: 0.3514 - val_accuracy: 0.8517 - val_auc_6: 0.9304\n",
            "Epoch 39/100\n",
            "44/44 [==============================] - 42s 963ms/step - loss: 0.4263 - accuracy: 0.8080 - auc_6: 0.8892 - val_loss: 0.4720 - val_accuracy: 0.7978 - val_auc_6: 0.8934\n",
            "Epoch 40/100\n",
            "44/44 [==============================] - 42s 959ms/step - loss: 0.4213 - accuracy: 0.8080 - auc_6: 0.8911 - val_loss: 0.5813 - val_accuracy: 0.8225 - val_auc_6: 0.8678\n",
            "Epoch 41/100\n",
            "44/44 [==============================] - 42s 954ms/step - loss: 0.4290 - accuracy: 0.8172 - auc_6: 0.8931 - val_loss: 0.4152 - val_accuracy: 0.8270 - val_auc_6: 0.9020\n",
            "Epoch 42/100\n",
            "44/44 [==============================] - 42s 951ms/step - loss: 0.3992 - accuracy: 0.8222 - auc_6: 0.9013 - val_loss: 0.5614 - val_accuracy: 0.8135 - val_auc_6: 0.8722\n",
            "Epoch 43/100\n",
            "44/44 [==============================] - 42s 960ms/step - loss: 0.4564 - accuracy: 0.8051 - auc_6: 0.8863 - val_loss: 0.3481 - val_accuracy: 0.8539 - val_auc_6: 0.9302\n",
            "Epoch 44/100\n",
            "44/44 [==============================] - 42s 963ms/step - loss: 0.4291 - accuracy: 0.8129 - auc_6: 0.8884 - val_loss: 0.4037 - val_accuracy: 0.8404 - val_auc_6: 0.9232\n",
            "Epoch 45/100\n",
            "44/44 [==============================] - 42s 962ms/step - loss: 0.4221 - accuracy: 0.8165 - auc_6: 0.8900 - val_loss: 0.3574 - val_accuracy: 0.8494 - val_auc_6: 0.9278\n",
            "Epoch 46/100\n",
            "44/44 [==============================] - 42s 959ms/step - loss: 0.4182 - accuracy: 0.8144 - auc_6: 0.8947 - val_loss: 0.8141 - val_accuracy: 0.6854 - val_auc_6: 0.7757\n",
            "Epoch 47/100\n",
            "44/44 [==============================] - 43s 983ms/step - loss: 0.4273 - accuracy: 0.8108 - auc_6: 0.8939 - val_loss: 0.3821 - val_accuracy: 0.8427 - val_auc_6: 0.9238\n",
            "Epoch 48/100\n",
            "44/44 [==============================] - 43s 987ms/step - loss: 0.4109 - accuracy: 0.8129 - auc_6: 0.8953 - val_loss: 0.5369 - val_accuracy: 0.8022 - val_auc_6: 0.8759\n",
            "Epoch 49/100\n",
            "44/44 [==============================] - 43s 975ms/step - loss: 0.4255 - accuracy: 0.8129 - auc_6: 0.8973 - val_loss: 0.5287 - val_accuracy: 0.7730 - val_auc_6: 0.8552\n",
            "Epoch 50/100\n",
            "44/44 [==============================] - 43s 987ms/step - loss: 0.4277 - accuracy: 0.8193 - auc_6: 0.8961 - val_loss: 0.4007 - val_accuracy: 0.8472 - val_auc_6: 0.9219\n",
            "Epoch 51/100\n",
            "44/44 [==============================] - 44s 1s/step - loss: 0.3973 - accuracy: 0.8272 - auc_6: 0.9072 - val_loss: 0.7783 - val_accuracy: 0.8157 - val_auc_6: 0.8609\n",
            "Epoch 52/100\n",
            "44/44 [==============================] - 45s 1s/step - loss: 0.4144 - accuracy: 0.8201 - auc_6: 0.8962 - val_loss: 0.4981 - val_accuracy: 0.7955 - val_auc_6: 0.8733\n",
            "Epoch 53/100\n",
            "44/44 [==============================] - 43s 985ms/step - loss: 0.3892 - accuracy: 0.8257 - auc_6: 0.9111 - val_loss: 0.3470 - val_accuracy: 0.8539 - val_auc_6: 0.9328\n",
            "Epoch 54/100\n",
            "44/44 [==============================] - 44s 996ms/step - loss: 0.4087 - accuracy: 0.8094 - auc_6: 0.8988 - val_loss: 0.3674 - val_accuracy: 0.8404 - val_auc_6: 0.9225\n",
            "Epoch 55/100\n",
            "44/44 [==============================] - 44s 997ms/step - loss: 0.4164 - accuracy: 0.8250 - auc_6: 0.8999 - val_loss: 0.3765 - val_accuracy: 0.8517 - val_auc_6: 0.9279\n",
            "Epoch 56/100\n",
            "44/44 [==============================] - 45s 1s/step - loss: 0.4046 - accuracy: 0.8037 - auc_6: 0.8975 - val_loss: 0.3920 - val_accuracy: 0.8292 - val_auc_6: 0.9189\n",
            "Epoch 57/100\n",
            "44/44 [==============================] - 45s 1s/step - loss: 0.4319 - accuracy: 0.8108 - auc_6: 0.8964 - val_loss: 0.3839 - val_accuracy: 0.8517 - val_auc_6: 0.9249\n",
            "Epoch 58/100\n",
            "44/44 [==============================] - 45s 1s/step - loss: 0.4473 - accuracy: 0.8222 - auc_6: 0.8931 - val_loss: 0.3603 - val_accuracy: 0.8539 - val_auc_6: 0.9283\n",
            "Epoch 59/100\n",
            "44/44 [==============================] - 43s 968ms/step - loss: 0.3662 - accuracy: 0.8378 - auc_6: 0.9186 - val_loss: 0.3912 - val_accuracy: 0.8427 - val_auc_6: 0.9153\n",
            "Epoch 60/100\n",
            "44/44 [==============================] - 43s 972ms/step - loss: 0.3903 - accuracy: 0.8371 - auc_6: 0.9080 - val_loss: 0.3919 - val_accuracy: 0.8517 - val_auc_6: 0.9299\n",
            "Epoch 61/100\n",
            "44/44 [==============================] - 42s 963ms/step - loss: 0.4136 - accuracy: 0.8129 - auc_6: 0.9011 - val_loss: 0.6779 - val_accuracy: 0.7820 - val_auc_6: 0.8722\n",
            "Epoch 62/100\n",
            "44/44 [==============================] - 43s 969ms/step - loss: 0.3794 - accuracy: 0.8329 - auc_6: 0.9130 - val_loss: 0.6493 - val_accuracy: 0.7708 - val_auc_6: 0.8687\n",
            "Epoch 63/100\n",
            "44/44 [==============================] - 43s 970ms/step - loss: 0.4047 - accuracy: 0.8073 - auc_6: 0.8990 - val_loss: 0.3668 - val_accuracy: 0.8360 - val_auc_6: 0.9264\n",
            "Epoch 64/100\n",
            "44/44 [==============================] - 43s 966ms/step - loss: 0.4098 - accuracy: 0.8030 - auc_6: 0.8925 - val_loss: 0.3233 - val_accuracy: 0.8539 - val_auc_6: 0.9388\n",
            "Epoch 65/100\n",
            "44/44 [==============================] - 42s 960ms/step - loss: 0.4135 - accuracy: 0.8257 - auc_6: 0.9061 - val_loss: 0.4016 - val_accuracy: 0.8404 - val_auc_6: 0.9339\n",
            "Epoch 66/100\n",
            "44/44 [==============================] - 42s 964ms/step - loss: 0.3536 - accuracy: 0.8400 - auc_6: 0.9225 - val_loss: 0.5021 - val_accuracy: 0.7371 - val_auc_6: 0.8560\n",
            "Epoch 67/100\n",
            "44/44 [==============================] - 42s 962ms/step - loss: 0.3996 - accuracy: 0.8257 - auc_6: 0.9097 - val_loss: 0.3499 - val_accuracy: 0.8787 - val_auc_6: 0.9456\n",
            "Epoch 68/100\n",
            "44/44 [==============================] - 43s 975ms/step - loss: 0.4025 - accuracy: 0.8144 - auc_6: 0.9003 - val_loss: 0.3866 - val_accuracy: 0.8607 - val_auc_6: 0.9424\n",
            "Epoch 69/100\n",
            "44/44 [==============================] - 43s 973ms/step - loss: 0.4365 - accuracy: 0.8229 - auc_6: 0.9008 - val_loss: 0.4446 - val_accuracy: 0.8449 - val_auc_6: 0.9268\n",
            "Epoch 70/100\n",
            "44/44 [==============================] - 43s 979ms/step - loss: 0.4131 - accuracy: 0.8307 - auc_6: 0.9103 - val_loss: 0.4368 - val_accuracy: 0.8831 - val_auc_6: 0.9449\n",
            "Epoch 71/100\n",
            "44/44 [==============================] - 43s 985ms/step - loss: 0.3896 - accuracy: 0.8279 - auc_6: 0.9084 - val_loss: 0.3841 - val_accuracy: 0.8562 - val_auc_6: 0.9236\n",
            "Epoch 72/100\n",
            "44/44 [==============================] - 43s 974ms/step - loss: 0.3787 - accuracy: 0.8378 - auc_6: 0.9135 - val_loss: 0.3429 - val_accuracy: 0.8831 - val_auc_6: 0.9457\n",
            "Epoch 73/100\n",
            "44/44 [==============================] - 42s 962ms/step - loss: 0.3732 - accuracy: 0.8371 - auc_6: 0.9174 - val_loss: 0.4642 - val_accuracy: 0.8270 - val_auc_6: 0.9127\n",
            "Epoch 74/100\n",
            "44/44 [==============================] - 43s 968ms/step - loss: 0.3917 - accuracy: 0.8314 - auc_6: 0.9084 - val_loss: 0.4055 - val_accuracy: 0.8607 - val_auc_6: 0.9385\n",
            "Epoch 75/100\n",
            "44/44 [==============================] - 43s 968ms/step - loss: 0.3933 - accuracy: 0.8343 - auc_6: 0.9076 - val_loss: 0.3309 - val_accuracy: 0.8787 - val_auc_6: 0.9494\n",
            "Epoch 76/100\n",
            "44/44 [==============================] - 43s 972ms/step - loss: 0.3785 - accuracy: 0.8343 - auc_6: 0.9122 - val_loss: 0.3293 - val_accuracy: 0.8360 - val_auc_6: 0.9377\n",
            "Epoch 77/100\n",
            "44/44 [==============================] - 42s 964ms/step - loss: 0.3908 - accuracy: 0.8158 - auc_6: 0.9055 - val_loss: 0.3038 - val_accuracy: 0.8899 - val_auc_6: 0.9556\n",
            "Epoch 78/100\n",
            "44/44 [==============================] - 42s 961ms/step - loss: 0.4243 - accuracy: 0.8528 - auc_6: 0.9195 - val_loss: 0.3792 - val_accuracy: 0.8629 - val_auc_6: 0.9319\n",
            "Epoch 79/100\n",
            "44/44 [==============================] - 42s 964ms/step - loss: 0.3873 - accuracy: 0.8393 - auc_6: 0.9095 - val_loss: 0.2986 - val_accuracy: 0.8764 - val_auc_6: 0.9458\n",
            "Epoch 80/100\n",
            "44/44 [==============================] - 42s 965ms/step - loss: 0.3870 - accuracy: 0.8343 - auc_6: 0.9082 - val_loss: 0.2629 - val_accuracy: 0.8809 - val_auc_6: 0.9574\n",
            "Epoch 81/100\n",
            "44/44 [==============================] - 42s 964ms/step - loss: 0.3399 - accuracy: 0.8542 - auc_6: 0.9314 - val_loss: 0.5255 - val_accuracy: 0.8404 - val_auc_6: 0.8990\n",
            "Epoch 82/100\n",
            "44/44 [==============================] - 43s 977ms/step - loss: 0.3781 - accuracy: 0.8450 - auc_6: 0.9175 - val_loss: 0.8310 - val_accuracy: 0.8337 - val_auc_6: 0.8900\n",
            "Epoch 83/100\n",
            "44/44 [==============================] - 43s 973ms/step - loss: 0.4076 - accuracy: 0.8208 - auc_6: 0.9035 - val_loss: 0.4449 - val_accuracy: 0.8292 - val_auc_6: 0.9057\n",
            "Epoch 84/100\n",
            "44/44 [==============================] - 43s 985ms/step - loss: 0.3823 - accuracy: 0.8435 - auc_6: 0.9129 - val_loss: 0.7059 - val_accuracy: 0.7843 - val_auc_6: 0.8227\n",
            "Epoch 85/100\n",
            "44/44 [==============================] - 43s 971ms/step - loss: 0.5330 - accuracy: 0.8371 - auc_6: 0.9101 - val_loss: 0.5106 - val_accuracy: 0.8000 - val_auc_6: 0.8601\n",
            "Epoch 86/100\n",
            "44/44 [==============================] - 43s 968ms/step - loss: 0.3469 - accuracy: 0.8457 - auc_6: 0.9265 - val_loss: 0.5149 - val_accuracy: 0.8090 - val_auc_6: 0.8737\n",
            "Epoch 87/100\n",
            "44/44 [==============================] - 43s 975ms/step - loss: 0.3758 - accuracy: 0.8371 - auc_6: 0.9138 - val_loss: 0.3663 - val_accuracy: 0.8494 - val_auc_6: 0.9288\n",
            "Epoch 88/100\n",
            "44/44 [==============================] - 43s 968ms/step - loss: 0.3816 - accuracy: 0.8471 - auc_6: 0.9241 - val_loss: 0.3458 - val_accuracy: 0.8764 - val_auc_6: 0.9385\n",
            "Epoch 89/100\n",
            "44/44 [==============================] - 43s 973ms/step - loss: 0.3751 - accuracy: 0.8371 - auc_6: 0.9173 - val_loss: 0.3385 - val_accuracy: 0.8539 - val_auc_6: 0.9323\n",
            "Epoch 90/100\n",
            "44/44 [==============================] - 42s 959ms/step - loss: 0.3734 - accuracy: 0.8421 - auc_6: 0.9177 - val_loss: 0.4269 - val_accuracy: 0.8831 - val_auc_6: 0.9493\n",
            "Epoch 91/100\n",
            "44/44 [==============================] - 43s 969ms/step - loss: 0.3715 - accuracy: 0.8407 - auc_6: 0.9197 - val_loss: 0.3554 - val_accuracy: 0.8315 - val_auc_6: 0.9223\n",
            "Epoch 92/100\n",
            "44/44 [==============================] - 43s 972ms/step - loss: 0.4102 - accuracy: 0.8336 - auc_6: 0.9069 - val_loss: 0.4174 - val_accuracy: 0.8787 - val_auc_6: 0.9421\n",
            "Epoch 93/100\n",
            "44/44 [==============================] - 43s 980ms/step - loss: 0.3642 - accuracy: 0.8450 - auc_6: 0.9187 - val_loss: 0.3862 - val_accuracy: 0.8629 - val_auc_6: 0.9385\n",
            "Epoch 94/100\n",
            "44/44 [==============================] - 43s 968ms/step - loss: 0.4005 - accuracy: 0.8364 - auc_6: 0.9094 - val_loss: 0.3072 - val_accuracy: 0.8697 - val_auc_6: 0.9503\n",
            "Epoch 95/100\n",
            "44/44 [==============================] - 43s 971ms/step - loss: 0.3614 - accuracy: 0.8485 - auc_6: 0.9213 - val_loss: 0.3023 - val_accuracy: 0.8921 - val_auc_6: 0.9575\n",
            "Epoch 96/100\n",
            "44/44 [==============================] - 43s 971ms/step - loss: 0.3602 - accuracy: 0.8457 - auc_6: 0.9196 - val_loss: 0.4811 - val_accuracy: 0.8067 - val_auc_6: 0.8734\n",
            "Epoch 97/100\n",
            "44/44 [==============================] - 42s 964ms/step - loss: 0.4243 - accuracy: 0.8393 - auc_6: 0.9165 - val_loss: 0.2658 - val_accuracy: 0.8854 - val_auc_6: 0.9612\n",
            "Epoch 98/100\n",
            "44/44 [==============================] - 43s 968ms/step - loss: 0.4932 - accuracy: 0.8499 - auc_6: 0.9215 - val_loss: 0.4433 - val_accuracy: 0.8404 - val_auc_6: 0.9106\n",
            "Epoch 99/100\n",
            "44/44 [==============================] - 43s 971ms/step - loss: 0.3671 - accuracy: 0.8371 - auc_6: 0.9154 - val_loss: 0.3293 - val_accuracy: 0.8629 - val_auc_6: 0.9437\n",
            "Epoch 100/100\n",
            "44/44 [==============================] - 42s 963ms/step - loss: 0.4159 - accuracy: 0.8286 - auc_6: 0.9090 - val_loss: 0.3535 - val_accuracy: 0.8449 - val_auc_6: 0.9363\n"
          ],
          "name": "stdout"
        }
      ]
    },
    {
      "cell_type": "code",
      "metadata": {
        "id": "yk1KNXbQ7NXW"
      },
      "source": [
        "# Save the model in google drive\n",
        "model.save(\"/content/gdrive/MyDrive/MyModels/my_model_level_2_custom_final_model_1.h5\")"
      ],
      "execution_count": null,
      "outputs": []
    },
    {
      "cell_type": "code",
      "metadata": {
        "colab": {
          "base_uri": "https://localhost:8080/",
          "height": 590
        },
        "id": "yapjCmBG7PMb",
        "outputId": "7ca39b06-0dc6-446f-d7db-ab336349b1fd"
      },
      "source": [
        "# Accuracy History\n",
        "plt.figure(1)\n",
        "plt.title(\"Training and Validation Accuracy History\")\n",
        "plt.plot( history.history['accuracy'], color = \"red\", label = \"train_accuracy\")\n",
        "plt.plot( history.history['val_accuracy'], color = \"blue\", label = \"validation_accuracy\")\n",
        "plt.xlabel(\"Epoches\")\n",
        "plt.ylabel(\"Accuracy\")\n",
        "plt.legend()\n",
        "\n",
        "# Loss History\n",
        "plt.figure(2)\n",
        "plt.title(\"Training and Validation Loss History\")\n",
        "plt.plot(history.history['loss'], color = \"red\", label = \"train_loss\")\n",
        "plt.plot(history.history['val_loss'], color = \"blue\", label = \"validation_loss\")\n",
        "plt.xlabel(\"Epoches\")\n",
        "plt.ylabel(\"Loss\")\n",
        "plt.legend()"
      ],
      "execution_count": null,
      "outputs": [
        {
          "output_type": "execute_result",
          "data": {
            "text/plain": [
              "<matplotlib.legend.Legend at 0x7f397ec57518>"
            ]
          },
          "metadata": {
            "tags": []
          },
          "execution_count": 31
        },
        {
          "output_type": "display_data",
          "data": {
            "image/png": "[encoded data removed]",
            "text/plain": [
              "<Figure size 432x288 with 1 Axes>"
            ]
          },
          "metadata": {
            "tags": [],
            "needs_background": "light"
          }
        },
        {
          "output_type": "display_data",
          "data": {
            "image/png": "[encoded data removed]",
            "text/plain": [
              "<Figure size 432x288 with 1 Axes>"
            ]
          },
          "metadata": {
            "tags": [],
            "needs_background": "light"
          }
        }
      ]
    }
  ]
}