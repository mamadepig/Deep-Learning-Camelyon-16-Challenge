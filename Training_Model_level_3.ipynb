{
  "nbformat": 4,
  "nbformat_minor": 0,
  "metadata": {
    "colab": {
      "name": "Deep Learning Project Training Model level 3.ipynb",
      "provenance": [],
      "collapsed_sections": [],
      "machine_shape": "hm"
    },
    "kernelspec": {
      "name": "python3",
      "display_name": "Python 3"
    },
    "accelerator": "TPU"
  },
  "cells": [
    {
      "cell_type": "markdown",
      "metadata": {
        "id": "eBFdkX5w3CXn"
      },
      "source": [
        "# Training the model"
      ]
    },
    {
      "cell_type": "markdown",
      "metadata": {
        "id": "iyQp0Ifg3OjH"
      },
      "source": [
        "## Setup"
      ]
    },
    {
      "cell_type": "code",
      "metadata": {
        "colab": {
          "base_uri": "https://localhost:8080/"
        },
        "id": "sitxNcf9qgBm",
        "outputId": "0bc16a2a-493b-4841-cf48-fb9ed69a65ba"
      },
      "source": [
        "!apt-get install openslide-tools\n",
        "!pip install openslide-python\n",
        "%matplotlib inline\n",
        "import tensorflow as tf\n",
        "import matplotlib.pyplot as plt\n",
        "import numpy as np\n",
        "from google.colab import drive\n",
        "from openslide import open_slide, __library_version__ as openslide_version\n",
        "import os\n",
        "from PIL import Image\n",
        "from skimage.color import rgb2gray\n",
        "import random\n",
        "import shutil\n",
        "drive.mount('/content/gdrive')"
      ],
      "execution_count": null,
      "outputs": [
        {
          "output_type": "stream",
          "text": [
            "Reading package lists... Done\n",
            "Building dependency tree       \n",
            "Reading state information... Done\n",
            "The following additional packages will be installed:\n",
            "  libopenslide0\n",
            "Suggested packages:\n",
            "  libtiff-tools\n",
            "The following NEW packages will be installed:\n",
            "  libopenslide0 openslide-tools\n",
            "0 upgraded, 2 newly installed, 0 to remove and 14 not upgraded.\n",
            "Need to get 92.5 kB of archives.\n",
            "After this operation, 268 kB of additional disk space will be used.\n",
            "Get:1 http://archive.ubuntu.com/ubuntu bionic/universe amd64 libopenslide0 amd64 3.4.1+dfsg-2 [79.8 kB]\n",
            "Get:2 http://archive.ubuntu.com/ubuntu bionic/universe amd64 openslide-tools amd64 3.4.1+dfsg-2 [12.7 kB]\n",
            "Fetched 92.5 kB in 1s (145 kB/s)\n",
            "Selecting previously unselected package libopenslide0.\n",
            "(Reading database ... 144865 files and directories currently installed.)\n",
            "Preparing to unpack .../libopenslide0_3.4.1+dfsg-2_amd64.deb ...\n",
            "Unpacking libopenslide0 (3.4.1+dfsg-2) ...\n",
            "Selecting previously unselected package openslide-tools.\n",
            "Preparing to unpack .../openslide-tools_3.4.1+dfsg-2_amd64.deb ...\n",
            "Unpacking openslide-tools (3.4.1+dfsg-2) ...\n",
            "Setting up libopenslide0 (3.4.1+dfsg-2) ...\n",
            "Setting up openslide-tools (3.4.1+dfsg-2) ...\n",
            "Processing triggers for libc-bin (2.27-3ubuntu1.2) ...\n",
            "/sbin/ldconfig.real: /usr/local/lib/python3.6/dist-packages/ideep4py/lib/libmkldnn.so.0 is not a symbolic link\n",
            "\n",
            "Processing triggers for man-db (2.8.3-2ubuntu0.1) ...\n",
            "Collecting openslide-python\n",
            "\u001b[?25l  Downloading https://files.pythonhosted.org/packages/03/da/12dc0e7566ace61a5a65244220458dcb656b09cbf18ca50f3098875d97e4/openslide-python-1.1.2.tar.gz (316kB)\n",
            "\u001b[K     |████████████████████████████████| 317kB 6.9MB/s \n",
            "\u001b[?25hRequirement already satisfied: Pillow in /usr/local/lib/python3.6/dist-packages (from openslide-python) (7.0.0)\n",
            "Building wheels for collected packages: openslide-python\n",
            "  Building wheel for openslide-python (setup.py) ... \u001b[?25l\u001b[?25hdone\n",
            "  Created wheel for openslide-python: filename=openslide_python-1.1.2-cp36-cp36m-linux_x86_64.whl size=26716 sha256=bb2dc5cf4f104f18ead4fc7ffaaff60c25e8d4ab9818fe74ed37e503d030cedc\n",
            "  Stored in directory: /root/.cache/pip/wheels/6b/55/74/ba9d3dcc2c5c0f1282e08bae70df0ed57b496fb6b5c8f1adc9\n",
            "Successfully built openslide-python\n",
            "Installing collected packages: openslide-python\n",
            "Successfully installed openslide-python-1.1.2\n",
            "Mounted at /content/gdrive\n"
          ],
          "name": "stdout"
        }
      ]
    },
    {
      "cell_type": "code",
      "metadata": {
        "id": "PgEZP3fjv6Jw"
      },
      "source": [
        "# Read WSI\n",
        "def read_slide(slide, x, y, level, width, height, as_float=False):\n",
        "    im = slide.read_region((x,y), level, (width, height))\n",
        "    im = im.convert('RGB') # drop the alpha channel\n",
        "    if as_float:\n",
        "        im = np.asarray(im, dtype=np.float32)\n",
        "    else:\n",
        "        im = np.asarray(im)\n",
        "    assert im.shape == (height, width, 3)\n",
        "    return im"
      ],
      "execution_count": null,
      "outputs": []
    },
    {
      "cell_type": "code",
      "metadata": {
        "id": "jDIKqXu9v-8U"
      },
      "source": [
        "# get the validate percentage of a image\n",
        "def tissue_pixels_percentage(image, intensity=0.8):\n",
        "    im_gray = rgb2gray(image)\n",
        "    assert im_gray.shape == (image.shape[0], image.shape[1])\n",
        "    indices = np.where(im_gray <= intensity)\n",
        "    tissue_pixels = list(zip(indices[0], indices[1]))\n",
        "    percentage = len(tissue_pixels) / float(image.shape[0] * image.shape[0])\n",
        "    return percentage"
      ],
      "execution_count": null,
      "outputs": []
    },
    {
      "cell_type": "code",
      "metadata": {
        "id": "oMIgCcWVwCuR"
      },
      "source": [
        "def myImageShow(tumor, mask_tumor):\n",
        "  plt.figure(figsize=(20,20), dpi=100)\n",
        "  plt.subplot(131)\n",
        "  plt.imshow(tumor)\n",
        "  plt.subplot(132)\n",
        "  plt.imshow(mask_tumor)\n",
        "  plt.subplot(133)\n",
        "  plt.imshow(tumor)\n",
        "  plt.imshow(mask_tumor, cmap = \"jet\", alpha = 0.5)\n",
        "  plt.show()"
      ],
      "execution_count": null,
      "outputs": []
    },
    {
      "cell_type": "markdown",
      "metadata": {
        "id": "UJJMj3YI3VHm"
      },
      "source": [
        "## Get the images from google drive and split them into training set and validaiton set"
      ]
    },
    {
      "cell_type": "code",
      "metadata": {
        "id": "kjGcbjWIqLLI"
      },
      "source": [
        "root = '/content/level_3/'\n",
        "train_dir = os.path.join(root, 'TrainSet')\n",
        "val_dir = os.path.join(root, 'ValSet')\n",
        "train_tumor_dir = os.path.join(train_dir, 'tumor')\n",
        "train_non_tumor_dir = os.path.join(train_dir, 'non_tumor')\n",
        "val_tumor_dir = os.path.join(val_dir, 'tumor')\n",
        "val_non_tumor_dir = os.path.join(val_dir, 'non_tumor')\n",
        "if not os.path.exists(root):\n",
        "  os.mkdir(root)\n",
        "if not os.path.exists(train_dir):\n",
        "  os.mkdir(train_dir)\n",
        "if not os.path.exists(val_dir):\n",
        "  os.mkdir(val_dir)\n",
        "if not os.path.exists(train_tumor_dir):\n",
        "  os.mkdir(train_tumor_dir)\n",
        "if not os.path.exists(train_non_tumor_dir):\n",
        "  os.mkdir(train_non_tumor_dir)\n",
        "if not os.path.exists(val_tumor_dir):\n",
        "  os.mkdir(val_tumor_dir)\n",
        "if not os.path.exists(val_non_tumor_dir):\n",
        "  os.mkdir(val_non_tumor_dir)"
      ],
      "execution_count": null,
      "outputs": []
    },
    {
      "cell_type": "code",
      "metadata": {
        "colab": {
          "base_uri": "https://localhost:8080/"
        },
        "id": "7b-eeVUSNvU6",
        "outputId": "7c08b8b7-cc97-41ed-843f-9a19844f2e4b"
      },
      "source": [
        "original_tumor_dir = '/content/gdrive/MyDrive/level_3/tumor'\n",
        "tumor_image_num = len(os.listdir(original_tumor_dir))\n",
        "print(tumor_image_num)"
      ],
      "execution_count": null,
      "outputs": [
        {
          "output_type": "stream",
          "text": [
            "480\n"
          ],
          "name": "stdout"
        }
      ]
    },
    {
      "cell_type": "code",
      "metadata": {
        "colab": {
          "base_uri": "https://localhost:8080/"
        },
        "id": "Hwa5sZ-nFcun",
        "outputId": "c314b350-d6b2-4c72-f5e5-d0ff38388f56"
      },
      "source": [
        "original_no_tumor_dir = '/content/gdrive/MyDrive/level_3/no_tumor'\n",
        "no_tumor_image_num = len(os.listdir(original_no_tumor_dir))\n",
        "print(no_tumor_image_num)"
      ],
      "execution_count": null,
      "outputs": [
        {
          "output_type": "stream",
          "text": [
            "4015\n"
          ],
          "name": "stdout"
        }
      ]
    },
    {
      "cell_type": "code",
      "metadata": {
        "colab": {
          "base_uri": "https://localhost:8080/"
        },
        "id": "EqPTnBT3OJPk",
        "outputId": "a2760be0-0219-410a-8828-e3396feaec95"
      },
      "source": [
        "import math\n",
        "train_image_num = math.floor(tumor_image_num * 0.8)\n",
        "val_image_num = math.floor(tumor_image_num * 0.2)\n",
        "print(train_image_num, val_image_num)"
      ],
      "execution_count": null,
      "outputs": [
        {
          "output_type": "stream",
          "text": [
            "384 96\n"
          ],
          "name": "stdout"
        }
      ]
    },
    {
      "cell_type": "markdown",
      "metadata": {
        "id": "pUdaHmjg3_So"
      },
      "source": [
        "### Randomly Get Sample from the set\n",
        "In the sample process, I try two ways to sample the first one is tumor: non_tumor = 1: 1 and the second one is tumor: non_tumor = 1: 2. From experiment, I I found that 1: 1 sample way have a better result. Therefore, sampling the tumor: non_tumor as 1:1 and split the sample into 2 parts: training set: validation set = 4: 1."
      ]
    },
    {
      "cell_type": "code",
      "metadata": {
        "id": "00rOQ4i1PE8u"
      },
      "source": [
        "tumor_sample = random.sample(range(1, tumor_image_num + 1), train_image_num + val_image_num)\n",
        "no_tumor_sample = random.sample(range(1, no_tumor_image_num + 1), (train_image_num + val_image_num))\n",
        "#no_tumor_sample = random.sample(range(1, no_tumor_image_num + 1), (train_image_num + val_image_num) * 2)"
      ],
      "execution_count": null,
      "outputs": []
    },
    {
      "cell_type": "code",
      "metadata": {
        "colab": {
          "base_uri": "https://localhost:8080/"
        },
        "id": "Uwo_amJG2oMa",
        "outputId": "7174a369-0166-47f4-ce56-f36b7a5148a9"
      },
      "source": [
        "print(len(tumor_sample))\n",
        "print(len(no_tumor_sample))"
      ],
      "execution_count": null,
      "outputs": [
        {
          "output_type": "stream",
          "text": [
            "480\n",
            "480\n"
          ],
          "name": "stdout"
        }
      ]
    },
    {
      "cell_type": "code",
      "metadata": {
        "colab": {
          "base_uri": "https://localhost:8080/"
        },
        "id": "4UgENlIVqWoj",
        "outputId": "abb23d6f-d4e9-42dc-bff8-e24d031abf8d"
      },
      "source": [
        "# Copy tumor images to train_tumor_dir\n",
        "fnames = ['tumor_{}.png'.format(i) for i in tumor_sample[0: train_image_num]]\n",
        "for fname in fnames:\n",
        "    src = os.path.join(original_tumor_dir, fname)\n",
        "    dst = os.path.join(train_tumor_dir, fname)\n",
        "    shutil.copyfile(src, dst)\n",
        "\n",
        "# Copy tumor images to val_tumor_dir\n",
        "fnames = ['tumor_{}.png'.format(i) for i in tumor_sample[train_image_num::]]\n",
        "for fname in fnames:\n",
        "    src = os.path.join(original_tumor_dir, fname)\n",
        "    dst = os.path.join(val_tumor_dir, fname)\n",
        "    shutil.copyfile(src, dst)\n",
        "\n",
        "print(len(os.listdir(val_tumor_dir))) \n",
        "print(len(os.listdir(train_tumor_dir)))"
      ],
      "execution_count": null,
      "outputs": [
        {
          "output_type": "stream",
          "text": [
            "96\n",
            "384\n"
          ],
          "name": "stdout"
        }
      ]
    },
    {
      "cell_type": "code",
      "metadata": {
        "colab": {
          "base_uri": "https://localhost:8080/"
        },
        "id": "FWhfp3J5qb5i",
        "outputId": "fe6f7c8e-823d-4452-c92f-55cd71de37fa"
      },
      "source": [
        "# Copy non tumor images to train_tumor_dir\n",
        "\n",
        "#fnames = ['no_tumor_{}.jpeg'.format(i) for i in no_tumor_sample[0: train_image_num * 2]]\n",
        "fnames = ['no_tumor_{}.png'.format(i) for i in no_tumor_sample[0: train_image_num]]\n",
        "for fname in fnames:\n",
        "    src = os.path.join(original_no_tumor_dir, fname)\n",
        "    dst = os.path.join(train_non_tumor_dir, fname)\n",
        "    shutil.copyfile(src, dst)\n",
        "\n",
        "# Copy non tumor images to val_tumor_dir\n",
        "#fnames = ['no_tumor_{}.jpeg'.format(i) for i in no_tumor_sample[train_image_num * 2::]]\n",
        "fnames = ['no_tumor_{}.png'.format(i) for i in no_tumor_sample[train_image_num::]]\n",
        "for fname in fnames:\n",
        "    src = os.path.join(original_no_tumor_dir, fname)\n",
        "    dst = os.path.join(val_non_tumor_dir, fname)\n",
        "    shutil.copyfile(src, dst)\n",
        "\n",
        "print(len(os.listdir(val_non_tumor_dir)))\n",
        "print(len(os.listdir(train_non_tumor_dir)))"
      ],
      "execution_count": null,
      "outputs": [
        {
          "output_type": "stream",
          "text": [
            "96\n",
            "384\n"
          ],
          "name": "stdout"
        }
      ]
    },
    {
      "cell_type": "markdown",
      "metadata": {
        "id": "YPSf-yLU2_cy"
      },
      "source": [
        "## Trian the Model with Transfer Learning (Xception)\n"
      ]
    },
    {
      "cell_type": "code",
      "metadata": {
        "colab": {
          "base_uri": "https://localhost:8080/"
        },
        "id": "wMde3lwjqsx-",
        "outputId": "7b491017-8b26-4046-bcc4-97a9514c752e"
      },
      "source": [
        "base_model = tf.keras.applications.Xception(include_top = False, weights = \"imagenet\", input_shape = (299, 299, 3))\n",
        "base_model.trainable = False\n",
        "model=tf.keras.models.Sequential([   \n",
        "    base_model,\n",
        "    tf.keras.layers.Flatten(),\n",
        "    tf.keras.layers.Dense(128, activation='relu'),\n",
        "    tf.keras.layers.Dense(32, activation='relu'),\n",
        "    tf.keras.layers.Dense(16, activation='relu'),\n",
        "    tf.keras.layers.Dense(2, activation='softmax')\n",
        "])\n",
        "\n",
        "model.summary()"
      ],
      "execution_count": null,
      "outputs": [
        {
          "output_type": "stream",
          "text": [
            "Model: \"sequential_3\"\n",
            "_________________________________________________________________\n",
            "Layer (type)                 Output Shape              Param #   \n",
            "=================================================================\n",
            "xception (Functional)        (None, 10, 10, 2048)      20861480  \n",
            "_________________________________________________________________\n",
            "flatten_3 (Flatten)          (None, 204800)            0         \n",
            "_________________________________________________________________\n",
            "dense_9 (Dense)              (None, 128)               26214528  \n",
            "_________________________________________________________________\n",
            "dense_10 (Dense)             (None, 32)                4128      \n",
            "_________________________________________________________________\n",
            "dense_11 (Dense)             (None, 16)                528       \n",
            "_________________________________________________________________\n",
            "dense_12 (Dense)             (None, 2)                 34        \n",
            "=================================================================\n",
            "Total params: 47,080,698\n",
            "Trainable params: 26,219,218\n",
            "Non-trainable params: 20,861,480\n",
            "_________________________________________________________________\n"
          ],
          "name": "stdout"
        }
      ]
    },
    {
      "cell_type": "markdown",
      "metadata": {
        "id": "lgLqrC4l5fXd"
      },
      "source": [
        "### Data Augmentation\n",
        "The tumor image dataset is small, so using several ways to augment the dataset:\n",
        "1. Rotation\n",
        "2. Horizontal Flip and Vertical Flip\n",
        "3. Random choose adjust brightness (max_delta = 64 / 255), contrast (upper = 0.75), hue (max_delta = 0.04) and saturation (upper = 0.25)."
      ]
    },
    {
      "cell_type": "code",
      "metadata": {
        "colab": {
          "base_uri": "https://localhost:8080/"
        },
        "id": "A0_kRGiUq2YL",
        "outputId": "74f55703-1a60-4532-835d-3b14d2f1db11"
      },
      "source": [
        "def MyAugmentationFunction(image):\n",
        "  choice = random.choice([\"brightness\", \"contrast\", \"hue\", \"saturation\"])\n",
        "  if choice == \"brightness\":\n",
        "    image = tf.image.random_brightness(image, max_delta = 64 / 255)\n",
        "  if choice == \"contrast\":\n",
        "    image = tf.image.random_contrast(image, lower = 0, upper = 0.75)\n",
        "  if choice == \"hue\":\n",
        "    image = tf.image.random_hue(image, max_delta = 0.04)\n",
        "  if choice == \"saturation\":\n",
        "    image = tf.image.random_saturation(image, lower = 0, upper = 0.25)\n",
        "  return image\n",
        "\n",
        "train_datagen = tf.keras.preprocessing.image.ImageDataGenerator(rescale = 1./255,\n",
        "                                                                rotation_range = 90,\n",
        "                                                                vertical_flip = True,\n",
        "                                                                horizontal_flip = True,\n",
        "                                                                preprocessing_function = MyAugmentationFunction)\n",
        "\n",
        "test_datagen = tf.keras.preprocessing.image.ImageDataGenerator(rescale=1./255)\n",
        "\n",
        "train_generator = train_datagen.flow_from_directory(\n",
        "        train_dir,\n",
        "        target_size = (299, 299),\n",
        "        batch_size = 32,\n",
        "        class_mode='categorical')\n",
        "\n",
        "validation_generator = test_datagen.flow_from_directory(\n",
        "        val_dir,\n",
        "        target_size = (299, 299),\n",
        "        batch_size = 32,\n",
        "        class_mode = 'categorical')\n",
        "\n",
        "model.compile(optimizer ='adam',\n",
        "              loss = 'categorical_crossentropy',\n",
        "              metrics = ['accuracy', tf.keras.metrics.AUC()])\n",
        "\n",
        "history = model.fit(train_generator, verbose = 1, epochs = 20, validation_data = validation_generator)"
      ],
      "execution_count": null,
      "outputs": [
        {
          "output_type": "stream",
          "text": [
            "Found 768 images belonging to 2 classes.\n",
            "Found 192 images belonging to 2 classes.\n",
            "Epoch 1/20\n",
            "24/24 [==============================] - 37s 2s/step - loss: 1.9952 - accuracy: 0.6094 - auc_5: 0.6196 - val_loss: 0.7308 - val_accuracy: 0.7031 - val_auc_5: 0.7949\n",
            "Epoch 2/20\n",
            "24/24 [==============================] - 37s 2s/step - loss: 0.5255 - accuracy: 0.7799 - auc_5: 0.8513 - val_loss: 0.4771 - val_accuracy: 0.8281 - val_auc_5: 0.8508\n",
            "Epoch 3/20\n",
            "24/24 [==============================] - 36s 2s/step - loss: 0.4811 - accuracy: 0.8099 - auc_5: 0.8773 - val_loss: 0.4728 - val_accuracy: 0.8125 - val_auc_5: 0.8778\n",
            "Epoch 4/20\n",
            "24/24 [==============================] - 37s 2s/step - loss: 0.4824 - accuracy: 0.8099 - auc_5: 0.8770 - val_loss: 0.4260 - val_accuracy: 0.8281 - val_auc_5: 0.8894\n",
            "Epoch 5/20\n",
            "24/24 [==============================] - 38s 2s/step - loss: 0.4063 - accuracy: 0.8398 - auc_5: 0.9019 - val_loss: 0.3553 - val_accuracy: 0.8385 - val_auc_5: 0.9221\n",
            "Epoch 6/20\n",
            "24/24 [==============================] - 38s 2s/step - loss: 0.3751 - accuracy: 0.8385 - auc_5: 0.9166 - val_loss: 0.4213 - val_accuracy: 0.8281 - val_auc_5: 0.9003\n",
            "Epoch 7/20\n",
            "24/24 [==============================] - 38s 2s/step - loss: 0.3764 - accuracy: 0.8490 - auc_5: 0.9164 - val_loss: 0.3778 - val_accuracy: 0.8490 - val_auc_5: 0.9192\n",
            "Epoch 8/20\n",
            "24/24 [==============================] - 38s 2s/step - loss: 0.3372 - accuracy: 0.8411 - auc_5: 0.9310 - val_loss: 0.3313 - val_accuracy: 0.8542 - val_auc_5: 0.9326\n",
            "Epoch 9/20\n",
            "24/24 [==============================] - 38s 2s/step - loss: 0.3745 - accuracy: 0.8411 - auc_5: 0.9189 - val_loss: 0.3515 - val_accuracy: 0.8698 - val_auc_5: 0.9352\n",
            "Epoch 10/20\n",
            "24/24 [==============================] - 37s 2s/step - loss: 0.4166 - accuracy: 0.8203 - auc_5: 0.9133 - val_loss: 0.3701 - val_accuracy: 0.8385 - val_auc_5: 0.9272\n",
            "Epoch 11/20\n",
            "24/24 [==============================] - 38s 2s/step - loss: 0.3723 - accuracy: 0.8242 - auc_5: 0.9213 - val_loss: 0.4239 - val_accuracy: 0.8490 - val_auc_5: 0.9035\n",
            "Epoch 12/20\n",
            "24/24 [==============================] - 38s 2s/step - loss: 0.3280 - accuracy: 0.8464 - auc_5: 0.9359 - val_loss: 0.3523 - val_accuracy: 0.8490 - val_auc_5: 0.9313\n",
            "Epoch 13/20\n",
            "24/24 [==============================] - 38s 2s/step - loss: 0.3216 - accuracy: 0.8724 - auc_5: 0.9371 - val_loss: 0.3392 - val_accuracy: 0.8490 - val_auc_5: 0.9352\n",
            "Epoch 14/20\n",
            "24/24 [==============================] - 38s 2s/step - loss: 0.2892 - accuracy: 0.8828 - auc_5: 0.9486 - val_loss: 0.3946 - val_accuracy: 0.8490 - val_auc_5: 0.9144\n",
            "Epoch 15/20\n",
            "24/24 [==============================] - 37s 2s/step - loss: 0.2983 - accuracy: 0.8789 - auc_5: 0.9457 - val_loss: 0.3214 - val_accuracy: 0.8698 - val_auc_5: 0.9374\n",
            "Epoch 16/20\n",
            "24/24 [==============================] - 39s 2s/step - loss: 0.2847 - accuracy: 0.8659 - auc_5: 0.9510 - val_loss: 0.4175 - val_accuracy: 0.8542 - val_auc_5: 0.9088\n",
            "Epoch 17/20\n",
            "24/24 [==============================] - 37s 2s/step - loss: 0.2736 - accuracy: 0.8763 - auc_5: 0.9544 - val_loss: 0.3105 - val_accuracy: 0.8542 - val_auc_5: 0.9443\n",
            "Epoch 18/20\n",
            "24/24 [==============================] - 39s 2s/step - loss: 0.2624 - accuracy: 0.8932 - auc_5: 0.9582 - val_loss: 0.2931 - val_accuracy: 0.8854 - val_auc_5: 0.9484\n",
            "Epoch 19/20\n",
            "24/24 [==============================] - 39s 2s/step - loss: 0.2415 - accuracy: 0.9049 - auc_5: 0.9644 - val_loss: 0.3246 - val_accuracy: 0.8698 - val_auc_5: 0.9414\n",
            "Epoch 20/20\n",
            "24/24 [==============================] - 39s 2s/step - loss: 0.2947 - accuracy: 0.8672 - auc_5: 0.9490 - val_loss: 0.3184 - val_accuracy: 0.8750 - val_auc_5: 0.9414\n"
          ],
          "name": "stdout"
        }
      ]
    },
    {
      "cell_type": "code",
      "metadata": {
        "colab": {
          "base_uri": "https://localhost:8080/"
        },
        "id": "tqFOKo0BC1k3",
        "outputId": "ba8f7b47-3a21-48ad-ae6b-f9c25474b405"
      },
      "source": [
        "train_generator.class_indices"
      ],
      "execution_count": null,
      "outputs": [
        {
          "output_type": "execute_result",
          "data": {
            "text/plain": [
              "{'non_tumor': 0, 'tumor': 1}"
            ]
          },
          "metadata": {
            "tags": []
          },
          "execution_count": 24
        }
      ]
    },
    {
      "cell_type": "code",
      "metadata": {
        "id": "paam9b04voeM"
      },
      "source": [
        "# Save the model in google drive\n",
        "model.save(\"/content/gdrive/MyDrive/MyModels/my_model_level_3_Xception_final_model_1.h5\")"
      ],
      "execution_count": null,
      "outputs": []
    },
    {
      "cell_type": "code",
      "metadata": {
        "colab": {
          "base_uri": "https://localhost:8080/",
          "height": 590
        },
        "id": "Unozi5nMuzyw",
        "outputId": "0e251d2b-7494-4dcc-bf39-2653f670fc3d"
      },
      "source": [
        "# Accuracy History\n",
        "plt.figure(1)\n",
        "plt.title(\"Training and Validation Accuracy History\")\n",
        "plt.plot( history.history['accuracy'], color = \"red\", label = \"train_accuracy\")\n",
        "plt.plot( history.history['val_accuracy'], color = \"blue\", label = \"validation_accuracy\")\n",
        "plt.xlabel(\"Epoches\")\n",
        "plt.ylabel(\"Accuracy\")\n",
        "plt.legend()\n",
        "\n",
        "# Loss History\n",
        "plt.figure(2)\n",
        "plt.title(\"Training and Validation Loss History\")\n",
        "plt.plot(history.history['loss'], color = \"red\", label = \"train_loss\")\n",
        "plt.plot(history.history['val_loss'], color = \"blue\", label = \"validation_loss\")\n",
        "plt.xlabel(\"Epoches\")\n",
        "plt.ylabel(\"Loss\")\n",
        "plt.legend()"
      ],
      "execution_count": null,
      "outputs": [
        {
          "output_type": "execute_result",
          "data": {
            "text/plain": [
              "<matplotlib.legend.Legend at 0x7f8baeff6160>"
            ]
          },
          "metadata": {
            "tags": []
          },
          "execution_count": 26
        },
        {
          "output_type": "display_data",
          "data": {
            "image/png": "[encoded data removed]",
            "text/plain": [
              "<Figure size 432x288 with 1 Axes>"
            ]
          },
          "metadata": {
            "tags": [],
            "needs_background": "light"
          }
        },
        {
          "output_type": "display_data",
          "data": {
            "image/png": "[encoded data removed]",
            "text/plain": [
              "<Figure size 432x288 with 1 Axes>"
            ]
          },
          "metadata": {
            "tags": [],
            "needs_background": "light"
          }
        }
      ]
    },
    {
      "cell_type": "markdown",
      "metadata": {
        "id": "1FZ71Bj-6kBR"
      },
      "source": [
        "##Trian the Custom Model"
      ]
    },
    {
      "cell_type": "code",
      "metadata": {
        "colab": {
          "base_uri": "https://localhost:8080/"
        },
        "id": "Q_bc-bE727i8",
        "outputId": "5fb62b8f-db12-4daf-c2dd-a95ccd8e68bc"
      },
      "source": [
        "model=tf.keras.models.Sequential([  \n",
        "    tf.keras.layers.Conv2D(16, (3, 3), activation='relu', input_shape=(299, 299, 3)),\n",
        "    tf.keras.layers.MaxPooling2D((2, 2)), \n",
        "    tf.keras.layers.Conv2D(32, (3, 3), activation='relu', input_shape=(299, 299, 3)),\n",
        "    tf.keras.layers.MaxPooling2D((2, 2)),\n",
        "    #tf.keras.layers.BatchNormalization(),\n",
        "    #tf.keras.layers.Dropout(0.2),\n",
        "    tf.keras.layers.Conv2D(64, (3, 3), activation='relu'),\n",
        "    tf.keras.layers.MaxPooling2D((2, 2)),\n",
        "    #tf.keras.layers.BatchNormalization(),\n",
        "    #tf.keras.layers.Dropout(0.2),\n",
        "    tf.keras.layers.Conv2D(128, (3, 3), activation='relu'),\n",
        "    tf.keras.layers.MaxPooling2D((2, 2)),\n",
        "    #tf.keras.layers.BatchNormalization(),\n",
        "    #tf.keras.layers.Dropout(0.2),\n",
        "    tf.keras.layers.Conv2D(256, (3, 3), activation='relu'),\n",
        "    tf.keras.layers.MaxPooling2D((2, 2)),\n",
        "    #tf.keras.layers.BatchNormalization(),\n",
        "    tf.keras.layers.Flatten(),\n",
        "    tf.keras.layers.Dense(512, activation='relu'),\n",
        "    tf.keras.layers.Dense(32, activation='relu'),\n",
        "    tf.keras.layers.Dense(16, activation='relu'),\n",
        "    tf.keras.layers.Dense(2, activation='softmax')\n",
        "])\n",
        "\n",
        "model.summary()"
      ],
      "execution_count": null,
      "outputs": [
        {
          "output_type": "stream",
          "text": [
            "Model: \"sequential_6\"\n",
            "_________________________________________________________________\n",
            "Layer (type)                 Output Shape              Param #   \n",
            "=================================================================\n",
            "conv2d_26 (Conv2D)           (None, 297, 297, 16)      448       \n",
            "_________________________________________________________________\n",
            "max_pooling2d_10 (MaxPooling (None, 148, 148, 16)      0         \n",
            "_________________________________________________________________\n",
            "conv2d_27 (Conv2D)           (None, 146, 146, 32)      4640      \n",
            "_________________________________________________________________\n",
            "max_pooling2d_11 (MaxPooling (None, 73, 73, 32)        0         \n",
            "_________________________________________________________________\n",
            "conv2d_28 (Conv2D)           (None, 71, 71, 64)        18496     \n",
            "_________________________________________________________________\n",
            "max_pooling2d_12 (MaxPooling (None, 35, 35, 64)        0         \n",
            "_________________________________________________________________\n",
            "conv2d_29 (Conv2D)           (None, 33, 33, 128)       73856     \n",
            "_________________________________________________________________\n",
            "max_pooling2d_13 (MaxPooling (None, 16, 16, 128)       0         \n",
            "_________________________________________________________________\n",
            "conv2d_30 (Conv2D)           (None, 14, 14, 256)       295168    \n",
            "_________________________________________________________________\n",
            "max_pooling2d_14 (MaxPooling (None, 7, 7, 256)         0         \n",
            "_________________________________________________________________\n",
            "flatten_6 (Flatten)          (None, 12544)             0         \n",
            "_________________________________________________________________\n",
            "dense_21 (Dense)             (None, 512)               6423040   \n",
            "_________________________________________________________________\n",
            "dense_22 (Dense)             (None, 32)                16416     \n",
            "_________________________________________________________________\n",
            "dense_23 (Dense)             (None, 16)                528       \n",
            "_________________________________________________________________\n",
            "dense_24 (Dense)             (None, 2)                 34        \n",
            "=================================================================\n",
            "Total params: 6,832,626\n",
            "Trainable params: 6,832,626\n",
            "Non-trainable params: 0\n",
            "_________________________________________________________________\n"
          ],
          "name": "stdout"
        }
      ]
    },
    {
      "cell_type": "code",
      "metadata": {
        "colab": {
          "base_uri": "https://localhost:8080/"
        },
        "id": "Xa-t-gBy6xkk",
        "outputId": "d39b5982-6175-4add-c860-2343fbb64e39"
      },
      "source": [
        "train_datagen = tf.keras.preprocessing.image.ImageDataGenerator(rescale = 1./255,\n",
        "                                                                rotation_range = 90,\n",
        "                                                                vertical_flip = True,\n",
        "                                                                horizontal_flip = True,\n",
        "                                                                preprocessing_function = MyAugmentationFunction)\n",
        "\n",
        "test_datagen = tf.keras.preprocessing.image.ImageDataGenerator(rescale=1./255)\n",
        "\n",
        "train_generator = train_datagen.flow_from_directory(\n",
        "        train_dir,\n",
        "        target_size = (299, 299),\n",
        "        batch_size = 32,\n",
        "        class_mode='categorical')\n",
        "\n",
        "validation_generator = test_datagen.flow_from_directory(\n",
        "        val_dir,\n",
        "        target_size = (299, 299),\n",
        "        batch_size = 32,\n",
        "        class_mode = 'categorical')\n",
        "\n",
        "model.compile(optimizer ='adam',\n",
        "              loss = 'categorical_crossentropy',\n",
        "              metrics = ['accuracy', tf.keras.metrics.AUC()])\n",
        "\n",
        "history = model.fit(train_generator, verbose = 1, epochs = 50, validation_data = validation_generator)"
      ],
      "execution_count": null,
      "outputs": [
        {
          "output_type": "stream",
          "text": [
            "Found 768 images belonging to 2 classes.\n",
            "Found 192 images belonging to 2 classes.\n",
            "Epoch 1/50\n",
            "24/24 [==============================] - 20s 853ms/step - loss: 0.6964 - accuracy: 0.4857 - auc_9: 0.4534 - val_loss: 0.6929 - val_accuracy: 0.5625 - val_auc_9: 0.5000\n",
            "Epoch 2/50\n",
            "24/24 [==============================] - 20s 837ms/step - loss: 0.6932 - accuracy: 0.5078 - auc_9: 0.4718 - val_loss: 0.6929 - val_accuracy: 0.5000 - val_auc_9: 0.5684\n",
            "Epoch 3/50\n",
            "24/24 [==============================] - 20s 836ms/step - loss: 0.6860 - accuracy: 0.5885 - auc_9: 0.6190 - val_loss: 0.6155 - val_accuracy: 0.6979 - val_auc_9: 0.7580\n",
            "Epoch 4/50\n",
            "24/24 [==============================] - 20s 842ms/step - loss: 0.6662 - accuracy: 0.6146 - auc_9: 0.6537 - val_loss: 0.6664 - val_accuracy: 0.5625 - val_auc_9: 0.5969\n",
            "Epoch 5/50\n",
            "24/24 [==============================] - 20s 843ms/step - loss: 0.6170 - accuracy: 0.6615 - auc_9: 0.7132 - val_loss: 1.0194 - val_accuracy: 0.5000 - val_auc_9: 0.6050\n",
            "Epoch 6/50\n",
            "24/24 [==============================] - 20s 849ms/step - loss: 0.6212 - accuracy: 0.6536 - auc_9: 0.7138 - val_loss: 0.6800 - val_accuracy: 0.5417 - val_auc_9: 0.5937\n",
            "Epoch 7/50\n",
            "24/24 [==============================] - 20s 838ms/step - loss: 0.5735 - accuracy: 0.6979 - auc_9: 0.7654 - val_loss: 0.8746 - val_accuracy: 0.6771 - val_auc_9: 0.7334\n",
            "Epoch 8/50\n",
            "24/24 [==============================] - 20s 833ms/step - loss: 0.5834 - accuracy: 0.6784 - auc_9: 0.7579 - val_loss: 0.5944 - val_accuracy: 0.7240 - val_auc_9: 0.7902\n",
            "Epoch 9/50\n",
            "24/24 [==============================] - 20s 839ms/step - loss: 0.5577 - accuracy: 0.7161 - auc_9: 0.7875 - val_loss: 0.8080 - val_accuracy: 0.6562 - val_auc_9: 0.6738\n",
            "Epoch 10/50\n",
            "24/24 [==============================] - 20s 843ms/step - loss: 0.5702 - accuracy: 0.6888 - auc_9: 0.7639 - val_loss: 0.6306 - val_accuracy: 0.7292 - val_auc_9: 0.8009\n",
            "Epoch 11/50\n",
            "24/24 [==============================] - 20s 836ms/step - loss: 0.5571 - accuracy: 0.7070 - auc_9: 0.7913 - val_loss: 0.5695 - val_accuracy: 0.7031 - val_auc_9: 0.7888\n",
            "Epoch 12/50\n",
            "24/24 [==============================] - 20s 838ms/step - loss: 0.5918 - accuracy: 0.6615 - auc_9: 0.7478 - val_loss: 0.8063 - val_accuracy: 0.6250 - val_auc_9: 0.6562\n",
            "Epoch 13/50\n",
            "24/24 [==============================] - 20s 841ms/step - loss: 0.5562 - accuracy: 0.7227 - auc_9: 0.7901 - val_loss: 0.6041 - val_accuracy: 0.7188 - val_auc_9: 0.7901\n",
            "Epoch 14/50\n",
            "24/24 [==============================] - 20s 841ms/step - loss: 0.5239 - accuracy: 0.7227 - auc_9: 0.8062 - val_loss: 0.5869 - val_accuracy: 0.7760 - val_auc_9: 0.8299\n",
            "Epoch 15/50\n",
            "24/24 [==============================] - 20s 844ms/step - loss: 0.5369 - accuracy: 0.7227 - auc_9: 0.8061 - val_loss: 0.5284 - val_accuracy: 0.7812 - val_auc_9: 0.8792\n",
            "Epoch 16/50\n",
            "24/24 [==============================] - 20s 848ms/step - loss: 0.5312 - accuracy: 0.7214 - auc_9: 0.8068 - val_loss: 0.8216 - val_accuracy: 0.6771 - val_auc_9: 0.7219\n",
            "Epoch 17/50\n",
            "24/24 [==============================] - 20s 839ms/step - loss: 0.5263 - accuracy: 0.7214 - auc_9: 0.8146 - val_loss: 0.7090 - val_accuracy: 0.6458 - val_auc_9: 0.6893\n",
            "Epoch 18/50\n",
            "24/24 [==============================] - 20s 845ms/step - loss: 0.5109 - accuracy: 0.7240 - auc_9: 0.8216 - val_loss: 0.5085 - val_accuracy: 0.7500 - val_auc_9: 0.8382\n",
            "Epoch 19/50\n",
            "24/24 [==============================] - 20s 840ms/step - loss: 0.5367 - accuracy: 0.7083 - auc_9: 0.8031 - val_loss: 1.1004 - val_accuracy: 0.5208 - val_auc_9: 0.6047\n",
            "Epoch 20/50\n",
            "24/24 [==============================] - 20s 846ms/step - loss: 0.5438 - accuracy: 0.7188 - auc_9: 0.8057 - val_loss: 0.4722 - val_accuracy: 0.7760 - val_auc_9: 0.8628\n",
            "Epoch 21/50\n",
            "24/24 [==============================] - 20s 845ms/step - loss: 0.5166 - accuracy: 0.7214 - auc_9: 0.8193 - val_loss: 0.5160 - val_accuracy: 0.7656 - val_auc_9: 0.8314\n",
            "Epoch 22/50\n",
            "24/24 [==============================] - 20s 839ms/step - loss: 0.5444 - accuracy: 0.7161 - auc_9: 0.7995 - val_loss: 0.7460 - val_accuracy: 0.6510 - val_auc_9: 0.6784\n",
            "Epoch 23/50\n",
            "24/24 [==============================] - 20s 836ms/step - loss: 0.4992 - accuracy: 0.7279 - auc_9: 0.8347 - val_loss: 0.4545 - val_accuracy: 0.8021 - val_auc_9: 0.8701\n",
            "Epoch 24/50\n",
            "24/24 [==============================] - 20s 837ms/step - loss: 0.4915 - accuracy: 0.7240 - auc_9: 0.8345 - val_loss: 0.4876 - val_accuracy: 0.7865 - val_auc_9: 0.8508\n",
            "Epoch 25/50\n",
            "24/24 [==============================] - 20s 844ms/step - loss: 0.4529 - accuracy: 0.7878 - auc_9: 0.8708 - val_loss: 0.4973 - val_accuracy: 0.7135 - val_auc_9: 0.8339\n",
            "Epoch 26/50\n",
            "24/24 [==============================] - 20s 833ms/step - loss: 0.5081 - accuracy: 0.7422 - auc_9: 0.8288 - val_loss: 0.4679 - val_accuracy: 0.7448 - val_auc_9: 0.8549\n",
            "Epoch 27/50\n",
            "24/24 [==============================] - 20s 841ms/step - loss: 0.4946 - accuracy: 0.7708 - auc_9: 0.8446 - val_loss: 0.7001 - val_accuracy: 0.6094 - val_auc_9: 0.6567\n",
            "Epoch 28/50\n",
            "24/24 [==============================] - 20s 837ms/step - loss: 0.5060 - accuracy: 0.7578 - auc_9: 0.8334 - val_loss: 0.4653 - val_accuracy: 0.7917 - val_auc_9: 0.8608\n",
            "Epoch 29/50\n",
            "24/24 [==============================] - 20s 840ms/step - loss: 0.5086 - accuracy: 0.7396 - auc_9: 0.8289 - val_loss: 0.6049 - val_accuracy: 0.7396 - val_auc_9: 0.7936\n",
            "Epoch 30/50\n",
            "24/24 [==============================] - 20s 838ms/step - loss: 0.4876 - accuracy: 0.7552 - auc_9: 0.8426 - val_loss: 0.4860 - val_accuracy: 0.7760 - val_auc_9: 0.8534\n",
            "Epoch 31/50\n",
            "24/24 [==============================] - 20s 844ms/step - loss: 0.4458 - accuracy: 0.7943 - auc_9: 0.8736 - val_loss: 0.5629 - val_accuracy: 0.7292 - val_auc_9: 0.7905\n",
            "Epoch 32/50\n",
            "24/24 [==============================] - 20s 843ms/step - loss: 0.4527 - accuracy: 0.7695 - auc_9: 0.8671 - val_loss: 0.5102 - val_accuracy: 0.7865 - val_auc_9: 0.8266\n",
            "Epoch 33/50\n",
            "24/24 [==============================] - 20s 842ms/step - loss: 0.4305 - accuracy: 0.8047 - auc_9: 0.8850 - val_loss: 0.5716 - val_accuracy: 0.7917 - val_auc_9: 0.8166\n",
            "Epoch 34/50\n",
            "24/24 [==============================] - 20s 844ms/step - loss: 0.4548 - accuracy: 0.7773 - auc_9: 0.8661 - val_loss: 0.5308 - val_accuracy: 0.7865 - val_auc_9: 0.8181\n",
            "Epoch 35/50\n",
            "24/24 [==============================] - 20s 843ms/step - loss: 0.4174 - accuracy: 0.8008 - auc_9: 0.8901 - val_loss: 0.4842 - val_accuracy: 0.7969 - val_auc_9: 0.8594\n",
            "Epoch 36/50\n",
            "24/24 [==============================] - 20s 845ms/step - loss: 0.4100 - accuracy: 0.8047 - auc_9: 0.8961 - val_loss: 0.6092 - val_accuracy: 0.7760 - val_auc_9: 0.7979\n",
            "Epoch 37/50\n",
            "24/24 [==============================] - 20s 845ms/step - loss: 0.4214 - accuracy: 0.7982 - auc_9: 0.8884 - val_loss: 0.6997 - val_accuracy: 0.5833 - val_auc_9: 0.6875\n",
            "Epoch 38/50\n",
            "24/24 [==============================] - 20s 837ms/step - loss: 0.4317 - accuracy: 0.7982 - auc_9: 0.8845 - val_loss: 0.5213 - val_accuracy: 0.8021 - val_auc_9: 0.8445\n",
            "Epoch 39/50\n",
            "24/24 [==============================] - 20s 839ms/step - loss: 0.4597 - accuracy: 0.7617 - auc_9: 0.8628 - val_loss: 0.5629 - val_accuracy: 0.7812 - val_auc_9: 0.8055\n",
            "Epoch 40/50\n",
            "24/24 [==============================] - 20s 836ms/step - loss: 0.4561 - accuracy: 0.7865 - auc_9: 0.8682 - val_loss: 0.6043 - val_accuracy: 0.7865 - val_auc_9: 0.7987\n",
            "Epoch 41/50\n",
            "24/24 [==============================] - 20s 840ms/step - loss: 0.3946 - accuracy: 0.8464 - auc_9: 0.9054 - val_loss: 0.5013 - val_accuracy: 0.7917 - val_auc_9: 0.8346\n",
            "Epoch 42/50\n",
            "24/24 [==============================] - 20s 843ms/step - loss: 0.4075 - accuracy: 0.8125 - auc_9: 0.8964 - val_loss: 0.5279 - val_accuracy: 0.7969 - val_auc_9: 0.8292\n",
            "Epoch 43/50\n",
            "24/24 [==============================] - 20s 839ms/step - loss: 0.3883 - accuracy: 0.8177 - auc_9: 0.9069 - val_loss: 0.6524 - val_accuracy: 0.7604 - val_auc_9: 0.7887\n",
            "Epoch 44/50\n",
            "24/24 [==============================] - 20s 842ms/step - loss: 0.4239 - accuracy: 0.8229 - auc_9: 0.8889 - val_loss: 0.5465 - val_accuracy: 0.7917 - val_auc_9: 0.8110\n",
            "Epoch 45/50\n",
            "24/24 [==============================] - 20s 842ms/step - loss: 0.3664 - accuracy: 0.8346 - auc_9: 0.9177 - val_loss: 0.6434 - val_accuracy: 0.7760 - val_auc_9: 0.7987\n",
            "Epoch 46/50\n",
            "24/24 [==============================] - 20s 840ms/step - loss: 0.3861 - accuracy: 0.8268 - auc_9: 0.9078 - val_loss: 0.4219 - val_accuracy: 0.8229 - val_auc_9: 0.8869\n",
            "Epoch 47/50\n",
            "24/24 [==============================] - 20s 837ms/step - loss: 0.4065 - accuracy: 0.8138 - auc_9: 0.8963 - val_loss: 0.4804 - val_accuracy: 0.8177 - val_auc_9: 0.8524\n",
            "Epoch 48/50\n",
            "24/24 [==============================] - 20s 840ms/step - loss: 0.4016 - accuracy: 0.8060 - auc_9: 0.8982 - val_loss: 0.5108 - val_accuracy: 0.7656 - val_auc_9: 0.8332\n",
            "Epoch 49/50\n",
            "24/24 [==============================] - 20s 840ms/step - loss: 0.3850 - accuracy: 0.8451 - auc_9: 0.9097 - val_loss: 0.4050 - val_accuracy: 0.8281 - val_auc_9: 0.8957\n",
            "Epoch 50/50\n",
            "24/24 [==============================] - 20s 843ms/step - loss: 0.3865 - accuracy: 0.8385 - auc_9: 0.9077 - val_loss: 0.4451 - val_accuracy: 0.8490 - val_auc_9: 0.8758\n"
          ],
          "name": "stdout"
        }
      ]
    },
    {
      "cell_type": "code",
      "metadata": {
        "id": "yk1KNXbQ7NXW"
      },
      "source": [
        "# Save the model in google drive\n",
        "model.save(\"/content/gdrive/MyDrive/MyModels/my_model_level_3_custom_final_model_1.h5\")"
      ],
      "execution_count": null,
      "outputs": []
    },
    {
      "cell_type": "code",
      "metadata": {
        "colab": {
          "base_uri": "https://localhost:8080/",
          "height": 590
        },
        "id": "yapjCmBG7PMb",
        "outputId": "a3eab669-c256-45f2-f2d7-542cfd8b99d3"
      },
      "source": [
        "# Accuracy History\n",
        "plt.figure(1)\n",
        "plt.title(\"Training and Validation Accuracy History\")\n",
        "plt.plot( history.history['accuracy'], color = \"red\", label = \"train_accuracy\")\n",
        "plt.plot( history.history['val_accuracy'], color = \"blue\", label = \"validation_accuracy\")\n",
        "plt.xlabel(\"Epoches\")\n",
        "plt.ylabel(\"Accuracy\")\n",
        "plt.legend()\n",
        "\n",
        "# Loss History\n",
        "plt.figure(2)\n",
        "plt.title(\"Training and Validation Loss History\")\n",
        "plt.plot(history.history['loss'], color = \"red\", label = \"train_loss\")\n",
        "plt.plot(history.history['val_loss'], color = \"blue\", label = \"validation_loss\")\n",
        "plt.xlabel(\"Epoches\")\n",
        "plt.ylabel(\"Loss\")\n",
        "plt.legend()"
      ],
      "execution_count": null,
      "outputs": [
        {
          "output_type": "execute_result",
          "data": {
            "text/plain": [
              "<matplotlib.legend.Legend at 0x7f8bb46a3d68>"
            ]
          },
          "metadata": {
            "tags": []
          },
          "execution_count": 37
        },
        {
          "output_type": "display_data",
          "data": {
            "image/png": "[encoded data removed]",
            "text/plain": [
              "<Figure size 432x288 with 1 Axes>"
            ]
          },
          "metadata": {
            "tags": [],
            "needs_background": "light"
          }
        },
        {
          "output_type": "display_data",
          "data": {
            "image/png": "[encoded data removed]",
            "text/plain": [
              "<Figure size 432x288 with 1 Axes>"
            ]
          },
          "metadata": {
            "tags": [],
            "needs_background": "light"
          }
        }
      ]
    }
  ]
}